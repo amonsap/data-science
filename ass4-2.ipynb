{
 "cells": [
  {
   "cell_type": "code",
   "execution_count": 26,
   "metadata": {},
   "outputs": [
    {
     "name": "stdout",
     "output_type": "stream",
     "text": [
      "Number of instances = 699\n",
      "Number of attributes = 10\n"
     ]
    },
    {
     "data": {
      "text/html": [
       "<div>\n",
       "<style scoped>\n",
       "    .dataframe tbody tr th:only-of-type {\n",
       "        vertical-align: middle;\n",
       "    }\n",
       "\n",
       "    .dataframe tbody tr th {\n",
       "        vertical-align: top;\n",
       "    }\n",
       "\n",
       "    .dataframe thead th {\n",
       "        text-align: right;\n",
       "    }\n",
       "</style>\n",
       "<table border=\"1\" class=\"dataframe\">\n",
       "  <thead>\n",
       "    <tr style=\"text-align: right;\">\n",
       "      <th></th>\n",
       "      <th>Clump Thickness</th>\n",
       "      <th>Uniformity of Cell Size</th>\n",
       "      <th>Uniformity of Cell Shape</th>\n",
       "      <th>Marginal Adhesion</th>\n",
       "      <th>Single Epithelial Cell Size</th>\n",
       "      <th>Bare Nuclei</th>\n",
       "      <th>Bland Chromatin</th>\n",
       "      <th>Normal Nucleoli</th>\n",
       "      <th>Mitoses</th>\n",
       "      <th>Class</th>\n",
       "    </tr>\n",
       "  </thead>\n",
       "  <tbody>\n",
       "    <tr>\n",
       "      <th>0</th>\n",
       "      <td>5</td>\n",
       "      <td>1</td>\n",
       "      <td>1</td>\n",
       "      <td>1</td>\n",
       "      <td>2</td>\n",
       "      <td>1</td>\n",
       "      <td>3</td>\n",
       "      <td>1</td>\n",
       "      <td>1</td>\n",
       "      <td>2</td>\n",
       "    </tr>\n",
       "    <tr>\n",
       "      <th>1</th>\n",
       "      <td>5</td>\n",
       "      <td>4</td>\n",
       "      <td>4</td>\n",
       "      <td>5</td>\n",
       "      <td>7</td>\n",
       "      <td>10</td>\n",
       "      <td>3</td>\n",
       "      <td>2</td>\n",
       "      <td>1</td>\n",
       "      <td>2</td>\n",
       "    </tr>\n",
       "    <tr>\n",
       "      <th>2</th>\n",
       "      <td>3</td>\n",
       "      <td>1</td>\n",
       "      <td>1</td>\n",
       "      <td>1</td>\n",
       "      <td>2</td>\n",
       "      <td>2</td>\n",
       "      <td>3</td>\n",
       "      <td>1</td>\n",
       "      <td>1</td>\n",
       "      <td>2</td>\n",
       "    </tr>\n",
       "    <tr>\n",
       "      <th>3</th>\n",
       "      <td>6</td>\n",
       "      <td>8</td>\n",
       "      <td>8</td>\n",
       "      <td>1</td>\n",
       "      <td>3</td>\n",
       "      <td>4</td>\n",
       "      <td>3</td>\n",
       "      <td>7</td>\n",
       "      <td>1</td>\n",
       "      <td>2</td>\n",
       "    </tr>\n",
       "    <tr>\n",
       "      <th>4</th>\n",
       "      <td>4</td>\n",
       "      <td>1</td>\n",
       "      <td>1</td>\n",
       "      <td>3</td>\n",
       "      <td>2</td>\n",
       "      <td>1</td>\n",
       "      <td>3</td>\n",
       "      <td>1</td>\n",
       "      <td>1</td>\n",
       "      <td>2</td>\n",
       "    </tr>\n",
       "  </tbody>\n",
       "</table>\n",
       "</div>"
      ],
      "text/plain": [
       "   Clump Thickness  Uniformity of Cell Size  Uniformity of Cell Shape  \\\n",
       "0                5                        1                         1   \n",
       "1                5                        4                         4   \n",
       "2                3                        1                         1   \n",
       "3                6                        8                         8   \n",
       "4                4                        1                         1   \n",
       "\n",
       "   Marginal Adhesion  Single Epithelial Cell Size Bare Nuclei  \\\n",
       "0                  1                            2           1   \n",
       "1                  5                            7          10   \n",
       "2                  1                            2           2   \n",
       "3                  1                            3           4   \n",
       "4                  3                            2           1   \n",
       "\n",
       "   Bland Chromatin  Normal Nucleoli  Mitoses  Class  \n",
       "0                3                1        1      2  \n",
       "1                3                2        1      2  \n",
       "2                3                1        1      2  \n",
       "3                3                7        1      2  \n",
       "4                3                1        1      2  "
      ]
     },
     "execution_count": 26,
     "metadata": {},
     "output_type": "execute_result"
    }
   ],
   "source": [
    "import pandas as pd\n",
    "data = pd.read_csv('https://archive.ics.uci.edu/ml/machine-learning-databases/breast-cancer-wisconsin/breast-cancer-wisconsin.data', header=None)\n",
    "data.columns = ['Sample code', 'Clump Thickness', 'Uniformity of Cell Size', 'Uniformity of Cell Shape',\n",
    " 'Marginal Adhesion', 'Single Epithelial Cell Size', 'Bare Nuclei', 'Bland Chromatin',\n",
    " 'Normal Nucleoli', 'Mitoses','Class']\n",
    "data = data.drop(['Sample code'],axis=1)\n",
    "print('Number of instances = %d' % (data.shape[0]))\n",
    "print('Number of attributes = %d' % (data.shape[1]))\n",
    "data.head()"
   ]
  },
  {
   "cell_type": "code",
   "execution_count": 27,
   "metadata": {},
   "outputs": [
    {
     "name": "stdout",
     "output_type": "stream",
     "text": [
      "Number of instances = 699\n",
      "Number of attributes = 10\n",
      "Number of missing values:\n",
      "\tClump Thickness: 0\n",
      "\tUniformity of Cell Size: 0\n",
      "\tUniformity of Cell Shape: 0\n",
      "\tMarginal Adhesion: 0\n",
      "\tSingle Epithelial Cell Size: 0\n",
      "\tBare Nuclei: 16\n",
      "\tBland Chromatin: 0\n",
      "\tNormal Nucleoli: 0\n",
      "\tMitoses: 0\n",
      "\tClass: 0\n"
     ]
    }
   ],
   "source": [
    "import numpy as np\n",
    "data = data.replace('?',np.NaN)\n",
    "print('Number of instances = %d' % (data.shape[0]))\n",
    "print('Number of attributes = %d' % (data.shape[1]))\n",
    "print('Number of missing values:')\n",
    "for col in data.columns:\n",
    " print('\\t%s: %d' % (col,data[col].isna().sum()))"
   ]
  },
  {
   "cell_type": "code",
   "execution_count": 28,
   "metadata": {},
   "outputs": [
    {
     "name": "stdout",
     "output_type": "stream",
     "text": [
      "\n",
      "After replacing missing values:\n",
      "    Clump Thickness  Uniformity of Cell Size  Uniformity of Cell Shape  \\\n",
      "20                7                        3                         2   \n",
      "21               10                        5                         5   \n",
      "22                3                        1                         1   \n",
      "23                8                        4                         5   \n",
      "24                1                        1                         1   \n",
      "\n",
      "    Marginal Adhesion  Single Epithelial Cell Size Bare Nuclei  \\\n",
      "20                 10                            5          10   \n",
      "21                  3                            6           7   \n",
      "22                  1                            2           1   \n",
      "23                  1                            2           1   \n",
      "24                  1                            2           1   \n",
      "\n",
      "    Bland Chromatin  Normal Nucleoli  Mitoses  Class  \n",
      "20                5                4        4      4  \n",
      "21                7               10        1      4  \n",
      "22                2                1        1      2  \n",
      "23                7                3        1      4  \n",
      "24                3                1        1      2  \n"
     ]
    }
   ],
   "source": [
    "data1=data\n",
    "data1 = data1.fillna(data1.median())\n",
    "print('\\nAfter replacing missing values:')\n",
    "print(data1[20:25])"
   ]
  },
  {
   "cell_type": "code",
   "execution_count": 29,
   "metadata": {},
   "outputs": [
    {
     "data": {
      "text/plain": [
       "<matplotlib.axes._subplots.AxesSubplot at 0x1711fd922e8>"
      ]
     },
     "execution_count": 29,
     "metadata": {},
     "output_type": "execute_result"
    },
    {
     "data": {
      "image/png": "[encoded data removed]",
      "text/plain": [
       "<Figure size 1440x216 with 1 Axes>"
      ]
     },
     "metadata": {
      "needs_background": "light"
     },
     "output_type": "display_data"
    }
   ],
   "source": [
    "%matplotlib inline\n",
    "data_box_data1 = data1.drop(['Class'],axis=1)\n",
    "data_box_data1['Bare Nuclei'] = pd.to_numeric(data_box_data1['Bare Nuclei'])\n",
    "data_box_data1.boxplot(figsize=(20,3))"
   ]
  },
  {
   "cell_type": "code",
   "execution_count": 30,
   "metadata": {},
   "outputs": [
    {
     "name": "stdout",
     "output_type": "stream",
     "text": [
      "Number of instances = 699\n",
      "Number of attributes = 9\n",
      "Number of instances = 699\n"
     ]
    }
   ],
   "source": [
    "data1_x = data1.drop(['Class'],axis=1)\n",
    "print('Number of instances = %d' % (data1_x.shape[0]))\n",
    "print('Number of attributes = %d' % (data1_x.shape[1]))\n",
    "data1_x.head()\n",
    "data1_y = data1['Class']\n",
    "print('Number of instances = %d' % (data1_y.shape[0]))\n",
    "#print('Number of attributes = %d' % (data1_y.shape[1]))\n",
    "data1_y.head()\n",
    "from sklearn.model_selection import train_test_split\n",
    "X_train, X_test, y_train, y_test = train_test_split(data1_x, data1_y, test_size = 0.25,random_state = 0)"
   ]
  },
  {
   "cell_type": "code",
   "execution_count": 31,
   "metadata": {},
   "outputs": [
    {
     "name": "stdout",
     "output_type": "stream",
     "text": [
      "(524, 9)\n",
      "(524,)\n"
     ]
    }
   ],
   "source": [
    "print(X_train.shape)\n",
    "print(y_train.shape)"
   ]
  },
  {
   "cell_type": "code",
   "execution_count": 32,
   "metadata": {},
   "outputs": [
    {
     "name": "stdout",
     "output_type": "stream",
     "text": [
      "[0.9657142857142857, 0.9771428571428571, 0.9714285714285714, 0.9657142857142857, 0.96, 0.9542857142857143, 0.9542857142857143]\n",
      "0.9640816326530613\n"
     ]
    },
    {
     "data": {
      "image/png": "[encoded data removed]",
      "text/plain": [
       "<Figure size 432x288 with 1 Axes>"
      ]
     },
     "metadata": {
      "needs_background": "light"
     },
     "output_type": "display_data"
    }
   ],
   "source": [
    "from sklearn.metrics import accuracy_score\n",
    "from sklearn.neighbors import KNeighborsClassifier\n",
    "import matplotlib.pyplot as plt\n",
    "%matplotlib inline\n",
    "numNeighbors = [1, 5, 10, 15, 20, 25, 30]\n",
    "trainAcc_knnd1 = []\n",
    "testAcc_knndB = []\n",
    "for k in numNeighbors:\n",
    "    clf_knnd2 = KNeighborsClassifier(n_neighbors=k, metric='minkowski', p=2)\n",
    "    clf_knnd2.fit(X_train, y_train)\n",
    "    Y_predTrain_knnd2 = clf_knnd2.predict(X_train)\n",
    "    Y_predTest_knnd2 = clf_knnd2.predict(X_test)\n",
    "    trainAcc_knnd1.append(accuracy_score(y_train,Y_predTrain_knnd2))\n",
    "    testAcc_knndB.append(accuracy_score(y_test,Y_predTest_knnd2))\n",
    "plt.plot(numNeighbors,trainAcc_knnd1,'ro-',numNeighbors,testAcc_knndB,'bv--')\n",
    "plt.legend(['Training Accuracy','Test Accuracy'])\n",
    "plt.xlabel('Number of neighbors')\n",
    "plt.ylabel('Accuracy')\n",
    "\n",
    "print(testAcc_knndB)\n",
    "print(np.mean(testAcc_knndB))"
   ]
  },
  {
   "cell_type": "code",
   "execution_count": 33,
   "metadata": {},
   "outputs": [
    {
     "name": "stdout",
     "output_type": "stream",
     "text": [
      "[0.64, 0.9314285714285714, 0.9371428571428572, 0.9428571428571428, 0.9485714285714286, 0.9485714285714286, 0.96, 0.96, 0.96, 0.96]\n",
      "0.9188571428571428\n"
     ]
    },
    {
     "data": {
      "image/png": "[encoded data removed]",
      "text/plain": [
       "<Figure size 432x288 with 1 Axes>"
      ]
     },
     "metadata": {
      "needs_background": "light"
     },
     "output_type": "display_data"
    }
   ],
   "source": [
    "\n",
    "from sklearn.svm import SVC\n",
    "C = [0.01, 0.1, 0.2, 0.5, 0.8, 1, 5, 10, 20, 50]\n",
    "SVMtrainAcc = []\n",
    "SVMtestAcc = []\n",
    "\n",
    "for param in C:\n",
    "    clf = SVC(C=param,kernel='rbf',gamma='auto')\n",
    "    clf.fit(X_train,y_train)\n",
    "    Y_predTrain = clf.predict(X_train)\n",
    "    Y_predTest = clf.predict(X_test)\n",
    "    SVMtrainAcc.append(accuracy_score(y_train, Y_predTrain))\n",
    "    SVMtestAcc.append(accuracy_score(y_test, Y_predTest))\n",
    "\n",
    "plt.plot(C, SVMtrainAcc, 'ro-', C, SVMtestAcc,'bv--')\n",
    "plt.legend(['Training Accuracy','Test Accuracy'])\n",
    "plt.xlabel('C')\n",
    "plt.xscale('log')\n",
    "plt.ylabel('Accuracy')\n",
    "print(SVMtestAcc)\n",
    "print(np.mean(SVMtestAcc))"
   ]
  },
  {
   "cell_type": "code",
   "execution_count": 34,
   "metadata": {},
   "outputs": [
    {
     "name": "stdout",
     "output_type": "stream",
     "text": [
      "[0.9714285714285714, 0.9657142857142857, 0.96]\n",
      "0.9657142857142857\n"
     ]
    },
    {
     "data": {
      "image/png": "[encoded data removed]",
      "text/plain": [
       "<Figure size 864x432 with 2 Axes>"
      ]
     },
     "metadata": {
      "needs_background": "light"
     },
     "output_type": "display_data"
    }
   ],
   "source": [
    "from sklearn import ensemble\n",
    "from sklearn.tree import DecisionTreeClassifier\n",
    "\n",
    "numBaseClassifiers = 500\n",
    "maxdepth = 10\n",
    "trainAcc = []\n",
    "testAcc = []\n",
    "\n",
    "clf = ensemble.RandomForestClassifier(n_estimators=numBaseClassifiers)\n",
    "clf.fit(X_train, y_train)\n",
    "Y_predTrain = clf.predict(X_train)\n",
    "Y_predTest = clf.predict(X_test)\n",
    "trainAcc.append(accuracy_score(y_train, Y_predTrain))\n",
    "testAcc.append(accuracy_score(y_test, Y_predTest))\n",
    "\n",
    "clf = ensemble.BaggingClassifier(DecisionTreeClassifier(max_depth=maxdepth),n_estimators=numBaseClassifiers)\n",
    "clf.fit(X_train, y_train)\n",
    "Y_predTrain = clf.predict(X_train)\n",
    "Y_predTest = clf.predict(X_test)\n",
    "trainAcc.append(accuracy_score(y_train, Y_predTrain))\n",
    "testAcc.append(accuracy_score(y_test, Y_predTest))\n",
    "\n",
    "clf = ensemble.AdaBoostClassifier(DecisionTreeClassifier(max_depth=maxdepth),n_estimators=numBaseClassifiers)\n",
    "clf.fit(X_train, y_train)\n",
    "Y_predTrain = clf.predict(X_train)\n",
    "Y_predTest = clf.predict(X_test)\n",
    "trainAcc.append(accuracy_score(y_train, Y_predTrain))\n",
    "testAcc.append(accuracy_score(y_test, Y_predTest))\n",
    "\n",
    "methods = ['Random Forest', 'Bagging', 'AdaBoost']\n",
    "fig, (ax1, ax2) = plt.subplots(1, 2, figsize=(12,6))\n",
    "ax1.bar([1.5,2.5,3.5], trainAcc)\n",
    "ax1.set_xticks([1.5,2.5,3.5])\n",
    "ax1.set_xticklabels(methods)\n",
    "ax2.bar([1.5,2.5,3.5], testAcc)\n",
    "ax2.set_xticks([1.5,2.5,3.5])\n",
    "ax2.set_xticklabels(methods)\n",
    "print(testAcc)\n",
    "print(np.mean(testAcc))"
   ]
  },
  {
   "cell_type": "code",
   "execution_count": 41,
   "metadata": {},
   "outputs": [
    {
     "name": "stdout",
     "output_type": "stream",
     "text": [
      "\n",
      "After replacing missing values:\n",
      "    Clump Thickness  Uniformity of Cell Size  Uniformity of Cell Shape  \\\n",
      "20                7                        3                         2   \n",
      "21               10                        5                         5   \n",
      "22                3                        1                         1   \n",
      "23                8                        4                         5   \n",
      "24                1                        1                         1   \n",
      "\n",
      "    Marginal Adhesion  Single Epithelial Cell Size Bare Nuclei  \\\n",
      "20                 10                            5          10   \n",
      "21                  3                            6           7   \n",
      "22                  1                            2           1   \n",
      "23                  1                            2           1   \n",
      "24                  1                            2           1   \n",
      "\n",
      "    Bland Chromatin  Normal Nucleoli  Mitoses  Class  \n",
      "20                5                4        4      4  \n",
      "21                7               10        1      4  \n",
      "22                2                1        1      2  \n",
      "23                7                3        1      4  \n",
      "24                3                1        1      2  \n"
     ]
    }
   ],
   "source": [
    "data2=data\n",
    "data2 = data2.fillna(data2.median())\n",
    "print('\\nAfter replacing missing values:')\n",
    "print(data2[20:25])"
   ]
  },
  {
   "cell_type": "code",
   "execution_count": 42,
   "metadata": {},
   "outputs": [],
   "source": [
    "AC1 = data2.drop(['Class'],axis=1)\n",
    "AC1['Bare Nuclei'] = pd.to_numeric(data_box_data1['Bare Nuclei'])\n",
    "#manging\n",
    "Z_AC1 = (AC1-AC1.mean())/AC1.std()\n",
    "Z1 = data2.loc[((Z_AC1 > -3).sum(axis=1)==9) & ((Z_AC1 <= 3).sum(axis=1)==9),:]\n",
    "\n",
    "data1_x = Z1.drop(['Class'],axis=1)\n",
    "data1_y = Z1['Class']"
   ]
  },
  {
   "cell_type": "code",
   "execution_count": 43,
   "metadata": {},
   "outputs": [
    {
     "name": "stdout",
     "output_type": "stream",
     "text": [
      "<class 'pandas.core.frame.DataFrame'>\n",
      "Int64Index: 648 entries, 0 to 698\n",
      "Data columns (total 10 columns):\n",
      "Clump Thickness                648 non-null int64\n",
      "Uniformity of Cell Size        648 non-null int64\n",
      "Uniformity of Cell Shape       648 non-null int64\n",
      "Marginal Adhesion              648 non-null int64\n",
      "Single Epithelial Cell Size    648 non-null int64\n",
      "Bare Nuclei                    648 non-null object\n",
      "Bland Chromatin                648 non-null int64\n",
      "Normal Nucleoli                648 non-null int64\n",
      "Mitoses                        648 non-null int64\n",
      "Class                          648 non-null int64\n",
      "dtypes: int64(9), object(1)\n",
      "memory usage: 55.7+ KB\n"
     ]
    }
   ],
   "source": [
    "Z1.info()"
   ]
  },
  {
   "cell_type": "code",
   "execution_count": 44,
   "metadata": {},
   "outputs": [],
   "source": [
    "from sklearn.model_selection import train_test_split\n",
    "X_train, X_test, y_train, y_test = train_test_split(data1_x, data1_y, test_size = 0.25,random_state = 0)"
   ]
  },
  {
   "cell_type": "code",
   "execution_count": 45,
   "metadata": {},
   "outputs": [
    {
     "name": "stdout",
     "output_type": "stream",
     "text": [
      "(486, 9)\n",
      "(486,)\n"
     ]
    }
   ],
   "source": [
    "print(X_train.shape)\n",
    "print(y_train.shape)"
   ]
  },
  {
   "cell_type": "code",
   "execution_count": 47,
   "metadata": {},
   "outputs": [
    {
     "name": "stdout",
     "output_type": "stream",
     "text": [
      "[0.9320987654320988, 0.9506172839506173, 0.9506172839506173, 0.9567901234567902, 0.9567901234567902, 0.9506172839506173, 0.9506172839506173]\n",
      "0.9497354497354497\n"
     ]
    },
    {
     "data": {
      "image/png": "[encoded data removed]",
      "text/plain": [
       "<Figure size 432x288 with 1 Axes>"
      ]
     },
     "metadata": {
      "needs_background": "light"
     },
     "output_type": "display_data"
    }
   ],
   "source": [
    "from sklearn.metrics import accuracy_score\n",
    "from sklearn.neighbors import KNeighborsClassifier\n",
    "import matplotlib.pyplot as plt\n",
    "%matplotlib inline\n",
    "numNeighbors = [1, 5, 10, 15, 20, 25, 30]\n",
    "trainAcc_knnd1 = []\n",
    "testAcc_knndB = []\n",
    "for k in numNeighbors:\n",
    "    clf_knnd2 = KNeighborsClassifier(n_neighbors=k, metric='minkowski', p=2)\n",
    "    clf_knnd2.fit(X_train, y_train)\n",
    "    Y_predTrain_knnd2 = clf_knnd2.predict(X_train)\n",
    "    Y_predTest_knnd2 = clf_knnd2.predict(X_test)\n",
    "    trainAcc_knnd1.append(accuracy_score(y_train,Y_predTrain_knnd2))\n",
    "    testAcc_knndB.append(accuracy_score(y_test,Y_predTest_knnd2))\n",
    "plt.plot(numNeighbors,trainAcc_knnd1,'ro-',numNeighbors,testAcc_knndB,'bv--')\n",
    "plt.legend(['Training Accuracy','Test Accuracy'])\n",
    "plt.xlabel('Number of neighbors')\n",
    "plt.ylabel('Accuracy')\n",
    "\n",
    "print(testAcc_knndB)\n",
    "print(np.mean(testAcc_knndB))"
   ]
  },
  {
   "cell_type": "code",
   "execution_count": 48,
   "metadata": {},
   "outputs": [
    {
     "name": "stdout",
     "output_type": "stream",
     "text": [
      "[0.7037037037037037, 0.9259259259259259, 0.9320987654320988, 0.9320987654320988, 0.9382716049382716, 0.9382716049382716, 0.9320987654320988, 0.9320987654320988, 0.9320987654320988, 0.9320987654320988]\n",
      "0.9098765432098764\n"
     ]
    },
    {
     "data": {
      "image/png": "[encoded data removed]",
      "text/plain": [
       "<Figure size 432x288 with 1 Axes>"
      ]
     },
     "metadata": {
      "needs_background": "light"
     },
     "output_type": "display_data"
    }
   ],
   "source": [
    "from sklearn.svm import SVC\n",
    "C = [0.01, 0.1, 0.2, 0.5, 0.8, 1, 5, 10, 20, 50]\n",
    "SVMtrainAcc = []\n",
    "SVMtestAcc = []\n",
    "\n",
    "for param in C:\n",
    "    clf = SVC(C=param,kernel='rbf',gamma='auto')\n",
    "    clf.fit(X_train,y_train)\n",
    "    Y_predTrain = clf.predict(X_train)\n",
    "    Y_predTest = clf.predict(X_test)\n",
    "    SVMtrainAcc.append(accuracy_score(y_train, Y_predTrain))\n",
    "    SVMtestAcc.append(accuracy_score(y_test, Y_predTest))\n",
    "\n",
    "plt.plot(C, SVMtrainAcc, 'ro-', C, SVMtestAcc,'bv--')\n",
    "plt.legend(['Training Accuracy','Test Accuracy'])\n",
    "plt.xlabel('C')\n",
    "plt.xscale('log')\n",
    "plt.ylabel('Accuracy')\n",
    "print(SVMtestAcc)\n",
    "print(np.mean(SVMtestAcc))"
   ]
  },
  {
   "cell_type": "code",
   "execution_count": 49,
   "metadata": {},
   "outputs": [
    {
     "name": "stdout",
     "output_type": "stream",
     "text": [
      "[0.9629629629629629, 0.9567901234567902, 0.9382716049382716]\n",
      "0.9526748971193415\n"
     ]
    },
    {
     "data": {
      "image/png": "[encoded data removed]",
      "text/plain": [
       "<Figure size 864x432 with 2 Axes>"
      ]
     },
     "metadata": {
      "needs_background": "light"
     },
     "output_type": "display_data"
    }
   ],
   "source": [
    "from sklearn import ensemble\n",
    "from sklearn.tree import DecisionTreeClassifier\n",
    "\n",
    "numBaseClassifiers = 500\n",
    "maxdepth = 10\n",
    "trainAcc = []\n",
    "testAcc = []\n",
    "\n",
    "clf = ensemble.RandomForestClassifier(n_estimators=numBaseClassifiers)\n",
    "clf.fit(X_train, y_train)\n",
    "Y_predTrain = clf.predict(X_train)\n",
    "Y_predTest = clf.predict(X_test)\n",
    "trainAcc.append(accuracy_score(y_train, Y_predTrain))\n",
    "testAcc.append(accuracy_score(y_test, Y_predTest))\n",
    "\n",
    "clf = ensemble.BaggingClassifier(DecisionTreeClassifier(max_depth=maxdepth),n_estimators=numBaseClassifiers)\n",
    "clf.fit(X_train, y_train)\n",
    "Y_predTrain = clf.predict(X_train)\n",
    "Y_predTest = clf.predict(X_test)\n",
    "trainAcc.append(accuracy_score(y_train, Y_predTrain))\n",
    "testAcc.append(accuracy_score(y_test, Y_predTest))\n",
    "\n",
    "clf = ensemble.AdaBoostClassifier(DecisionTreeClassifier(max_depth=maxdepth),n_estimators=numBaseClassifiers)\n",
    "clf.fit(X_train, y_train)\n",
    "Y_predTrain = clf.predict(X_train)\n",
    "Y_predTest = clf.predict(X_test)\n",
    "trainAcc.append(accuracy_score(y_train, Y_predTrain))\n",
    "testAcc.append(accuracy_score(y_test, Y_predTest))\n",
    "\n",
    "methods = ['Random Forest', 'Bagging', 'AdaBoost']\n",
    "fig, (ax1, ax2) = plt.subplots(1, 2, figsize=(12,6))\n",
    "ax1.bar([1.5,2.5,3.5], trainAcc)\n",
    "ax1.set_xticks([1.5,2.5,3.5])\n",
    "ax1.set_xticklabels(methods)\n",
    "ax2.bar([1.5,2.5,3.5], testAcc)\n",
    "ax2.set_xticks([1.5,2.5,3.5])\n",
    "ax2.set_xticklabels(methods)\n",
    "print(testAcc)\n",
    "print(np.mean(testAcc))"
   ]
  },
  {
   "cell_type": "code",
   "execution_count": 50,
   "metadata": {},
   "outputs": [
    {
     "name": "stdout",
     "output_type": "stream",
     "text": [
      "\n",
      "After replacing missing values:\n",
      "    Clump Thickness  Uniformity of Cell Size  Uniformity of Cell Shape  \\\n",
      "20                7                        3                         2   \n",
      "21               10                        5                         5   \n",
      "22                3                        1                         1   \n",
      "23                8                        4                         5   \n",
      "24                1                        1                         1   \n",
      "\n",
      "    Marginal Adhesion  Single Epithelial Cell Size Bare Nuclei  \\\n",
      "20                 10                            5          10   \n",
      "21                  3                            6           7   \n",
      "22                  1                            2           1   \n",
      "23                  1                            2           1   \n",
      "24                  1                            2           1   \n",
      "\n",
      "    Bland Chromatin  Normal Nucleoli  Mitoses  Class  \n",
      "20                5                4        4      4  \n",
      "21                7               10        1      4  \n",
      "22                2                1        1      2  \n",
      "23                7                3        1      4  \n",
      "24                3                1        1      2  \n"
     ]
    }
   ],
   "source": [
    "data3=data\n",
    "data3 = data3.fillna(data3.median())\n",
    "print('\\nAfter replacing missing values:')\n",
    "print(data3[20:25])"
   ]
  },
  {
   "cell_type": "code",
   "execution_count": 51,
   "metadata": {},
   "outputs": [],
   "source": [
    "import pandas as pd\n",
    "data3 = data3.drop_duplicates()\n",
    "data1_x = data3.drop(['Class'],axis=1)\n",
    "data1_y = data3['Class']"
   ]
  },
  {
   "cell_type": "code",
   "execution_count": 52,
   "metadata": {},
   "outputs": [
    {
     "name": "stdout",
     "output_type": "stream",
     "text": [
      "<class 'pandas.core.frame.DataFrame'>\n",
      "Int64Index: 463 entries, 0 to 698\n",
      "Data columns (total 10 columns):\n",
      "Clump Thickness                463 non-null int64\n",
      "Uniformity of Cell Size        463 non-null int64\n",
      "Uniformity of Cell Shape       463 non-null int64\n",
      "Marginal Adhesion              463 non-null int64\n",
      "Single Epithelial Cell Size    463 non-null int64\n",
      "Bare Nuclei                    463 non-null object\n",
      "Bland Chromatin                463 non-null int64\n",
      "Normal Nucleoli                463 non-null int64\n",
      "Mitoses                        463 non-null int64\n",
      "Class                          463 non-null int64\n",
      "dtypes: int64(9), object(1)\n",
      "memory usage: 39.8+ KB\n"
     ]
    }
   ],
   "source": [
    "data3.info()"
   ]
  },
  {
   "cell_type": "code",
   "execution_count": 53,
   "metadata": {},
   "outputs": [],
   "source": [
    "from sklearn.model_selection import train_test_split\n",
    "X_train, X_test, y_train, y_test = train_test_split(data1_x, data1_y, test_size = 0.25,random_state = 0)"
   ]
  },
  {
   "cell_type": "code",
   "execution_count": 54,
   "metadata": {},
   "outputs": [
    {
     "name": "stdout",
     "output_type": "stream",
     "text": [
      "(347, 9)\n",
      "(347,)\n"
     ]
    }
   ],
   "source": [
    "print(X_train.shape)\n",
    "print(y_train.shape)"
   ]
  },
  {
   "cell_type": "code",
   "execution_count": 55,
   "metadata": {},
   "outputs": [
    {
     "name": "stdout",
     "output_type": "stream",
     "text": [
      "[0.9310344827586207, 0.9482758620689655, 0.9396551724137931, 0.9310344827586207, 0.9310344827586207, 0.9310344827586207, 0.9310344827586207]\n",
      "0.934729064039409\n"
     ]
    },
    {
     "data": {
      "image/png": "[encoded data removed]",
      "text/plain": [
       "<Figure size 432x288 with 1 Axes>"
      ]
     },
     "metadata": {
      "needs_background": "light"
     },
     "output_type": "display_data"
    }
   ],
   "source": [
    "from sklearn.metrics import accuracy_score\n",
    "from sklearn.metrics import accuracy_score\n",
    "from sklearn.neighbors import KNeighborsClassifier\n",
    "import matplotlib.pyplot as plt\n",
    "%matplotlib inline\n",
    "numNeighbors = [1, 5, 10, 15, 20, 25, 30]\n",
    "trainAcc_knnd1 = []\n",
    "testAcc_knndB = []\n",
    "for k in numNeighbors:\n",
    "    clf_knnd2 = KNeighborsClassifier(n_neighbors=k, metric='minkowski', p=2)\n",
    "    clf_knnd2.fit(X_train, y_train)\n",
    "    Y_predTrain_knnd2 = clf_knnd2.predict(X_train)\n",
    "    Y_predTest_knnd2 = clf_knnd2.predict(X_test)\n",
    "    trainAcc_knnd1.append(accuracy_score(y_train,Y_predTrain_knnd2))\n",
    "    testAcc_knndB.append(accuracy_score(y_test,Y_predTest_knnd2))\n",
    "plt.plot(numNeighbors,trainAcc_knnd1,'ro-',numNeighbors,testAcc_knndB,'bv--')\n",
    "plt.legend(['Training Accuracy','Test Accuracy'])\n",
    "plt.xlabel('Number of neighbors')\n",
    "plt.ylabel('Accuracy')\n",
    "\n",
    "print(testAcc_knndB)\n",
    "print(np.mean(testAcc_knndB))"
   ]
  },
  {
   "cell_type": "code",
   "execution_count": 56,
   "metadata": {},
   "outputs": [
    {
     "name": "stdout",
     "output_type": "stream",
     "text": [
      "[0.4827586206896552, 0.9051724137931034, 0.9051724137931034, 0.9051724137931034, 0.9224137931034483, 0.9310344827586207, 0.9224137931034483, 0.9224137931034483, 0.9224137931034483, 0.9224137931034483]\n",
      "0.8741379310344828\n"
     ]
    },
    {
     "data": {
      "image/png": "[encoded data removed]",
      "text/plain": [
       "<Figure size 432x288 with 1 Axes>"
      ]
     },
     "metadata": {
      "needs_background": "light"
     },
     "output_type": "display_data"
    }
   ],
   "source": [
    "from sklearn.svm import SVC\n",
    "C = [0.01, 0.1, 0.2, 0.5, 0.8, 1, 5, 10, 20, 50]\n",
    "SVMtrainAcc = []\n",
    "SVMtestAcc = []\n",
    "\n",
    "for param in C:\n",
    "    clf = SVC(C=param,kernel='rbf',gamma='auto')\n",
    "    clf.fit(X_train,y_train)\n",
    "    Y_predTrain = clf.predict(X_train)\n",
    "    Y_predTest = clf.predict(X_test)\n",
    "    SVMtrainAcc.append(accuracy_score(y_train, Y_predTrain))\n",
    "    SVMtestAcc.append(accuracy_score(y_test, Y_predTest))\n",
    "\n",
    "plt.plot(C, SVMtrainAcc, 'ro-', C, SVMtestAcc,'bv--')\n",
    "plt.legend(['Training Accuracy','Test Accuracy'])\n",
    "plt.xlabel('C')\n",
    "plt.xscale('log')\n",
    "plt.ylabel('Accuracy')\n",
    "print(SVMtestAcc)\n",
    "print(np.mean(SVMtestAcc))"
   ]
  },
  {
   "cell_type": "code",
   "execution_count": 57,
   "metadata": {},
   "outputs": [
    {
     "name": "stdout",
     "output_type": "stream",
     "text": [
      "[0.9396551724137931, 0.9224137931034483, 0.9051724137931034]\n",
      "0.9224137931034484\n"
     ]
    },
    {
     "data": {
      "image/png": "[encoded data removed]",
      "text/plain": [
       "<Figure size 864x432 with 2 Axes>"
      ]
     },
     "metadata": {
      "needs_background": "light"
     },
     "output_type": "display_data"
    }
   ],
   "source": [
    "from sklearn import ensemble\n",
    "from sklearn.tree import DecisionTreeClassifier\n",
    "\n",
    "numBaseClassifiers = 500\n",
    "maxdepth = 10\n",
    "trainAcc = []\n",
    "testAcc = []\n",
    "\n",
    "clf = ensemble.RandomForestClassifier(n_estimators=numBaseClassifiers)\n",
    "clf.fit(X_train, y_train)\n",
    "Y_predTrain = clf.predict(X_train)\n",
    "Y_predTest = clf.predict(X_test)\n",
    "trainAcc.append(accuracy_score(y_train, Y_predTrain))\n",
    "testAcc.append(accuracy_score(y_test, Y_predTest))\n",
    "\n",
    "clf = ensemble.BaggingClassifier(DecisionTreeClassifier(max_depth=maxdepth),n_estimators=numBaseClassifiers)\n",
    "clf.fit(X_train, y_train)\n",
    "Y_predTrain = clf.predict(X_train)\n",
    "Y_predTest = clf.predict(X_test)\n",
    "trainAcc.append(accuracy_score(y_train, Y_predTrain))\n",
    "testAcc.append(accuracy_score(y_test, Y_predTest))\n",
    "\n",
    "clf = ensemble.AdaBoostClassifier(DecisionTreeClassifier(max_depth=maxdepth),n_estimators=numBaseClassifiers)\n",
    "clf.fit(X_train, y_train)\n",
    "Y_predTrain = clf.predict(X_train)\n",
    "Y_predTest = clf.predict(X_test)\n",
    "trainAcc.append(accuracy_score(y_train, Y_predTrain))\n",
    "testAcc.append(accuracy_score(y_test, Y_predTest))\n",
    "\n",
    "methods = ['Random Forest', 'Bagging', 'AdaBoost']\n",
    "fig, (ax1, ax2) = plt.subplots(1, 2, figsize=(12,6))\n",
    "ax1.bar([1.5,2.5,3.5], trainAcc)\n",
    "ax1.set_xticks([1.5,2.5,3.5])\n",
    "ax1.set_xticklabels(methods)\n",
    "ax2.bar([1.5,2.5,3.5], testAcc)\n",
    "ax2.set_xticks([1.5,2.5,3.5])\n",
    "ax2.set_xticklabels(methods)\n",
    "print(testAcc)\n",
    "print(np.mean(testAcc))"
   ]
  },
  {
   "cell_type": "code",
   "execution_count": null,
   "metadata": {},
   "outputs": [],
   "source": []
  },
  {
   "cell_type": "code",
   "execution_count": null,
   "metadata": {},
   "outputs": [],
   "source": []
  }
 ],
 "metadata": {
  "kernelspec": {
   "display_name": "Python 3",
   "language": "python",
   "name": "python3"
  },
  "language_info": {
   "codemirror_mode": {
    "name": "ipython",
    "version": 3
   },
   "file_extension": ".py",
   "mimetype": "text/x-python",
   "name": "python",
   "nbconvert_exporter": "python",
   "pygments_lexer": "ipython3",
   "version": "3.7.3"
  }
 },
 "nbformat": 4,
 "nbformat_minor": 2
}
