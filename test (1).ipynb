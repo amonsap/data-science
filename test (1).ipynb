{
 "cells": [
  {
   "cell_type": "code",
   "execution_count": 12,
   "metadata": {},
   "outputs": [
    {
     "name": "stdout",
     "output_type": "stream",
     "text": [
      "number =  15.5\n",
      "money =  25000.0\n",
      "name =  au\n",
      "<class 'str'>\n",
      "<class 'bool'>\n",
      "<class 'bool'>\n",
      "<class 'bool'>\n"
     ]
    }
   ],
   "source": [
    "number = 15.5\n",
    "money = 25000.00\n",
    "name = 'au'\n",
    "c ='A'\n",
    "t = True\n",
    "f = False\n",
    "not_t = not(t)\n",
    "\n",
    "print ( 'number = ',number)\n",
    "print ('money = ',money)\n",
    "print ('name = ',name)\n",
    "print (type(c))\n",
    "print (type(t))\n",
    "print (type(f))\n",
    "print(type(not_t))"
   ]
  },
  {
   "cell_type": "code",
   "execution_count": 13,
   "metadata": {},
   "outputs": [
    {
     "name": "stdout",
     "output_type": "stream",
     "text": [
      "not_t False\n"
     ]
    }
   ],
   "source": [
    "print ('not_t',not_t)"
   ]
  },
  {
   "cell_type": "code",
   "execution_count": 14,
   "metadata": {},
   "outputs": [
    {
     "name": "stdout",
     "output_type": "stream",
     "text": [
      "A False\n"
     ]
    }
   ],
   "source": [
    "print(c,not_t)"
   ]
  },
  {
   "cell_type": "code",
   "execution_count": 15,
   "metadata": {},
   "outputs": [
    {
     "name": "stdout",
     "output_type": "stream",
     "text": [
      "False\n"
     ]
    }
   ],
   "source": [
    "print (not_t)"
   ]
  },
  {
   "cell_type": "code",
   "execution_count": 16,
   "metadata": {},
   "outputs": [
    {
     "name": "stdout",
     "output_type": "stream",
     "text": [
      "True\n"
     ]
    }
   ],
   "source": [
    "print (t)"
   ]
  },
  {
   "cell_type": "code",
   "execution_count": 17,
   "metadata": {},
   "outputs": [
    {
     "name": "stdout",
     "output_type": "stream",
     "text": [
      "number not\n"
     ]
    }
   ],
   "source": [
    "if (type(number) is int):\n",
    "    print ('yes number is int')\n",
    "else:\n",
    "    print ('number not')"
   ]
  },
  {
   "cell_type": "code",
   "execution_count": 18,
   "metadata": {},
   "outputs": [
    {
     "name": "stdin",
     "output_type": "stream",
     "text": [
      "a =  10\n"
     ]
    },
    {
     "name": "stdout",
     "output_type": "stream",
     "text": [
      "10 X 1 = 10\n",
      "10 X 2 = 20\n",
      "10 X 3 = 30\n",
      "10 X 4 = 40\n",
      "10 X 5 = 50\n",
      "10 X 6 = 60\n",
      "10 X 7 = 70\n",
      "10 X 8 = 80\n",
      "10 X 9 = 90\n",
      "10 X 10 = 100\n",
      "10 X 11 = 110\n",
      "10 X 12 = 120\n"
     ]
    }
   ],
   "source": [
    "a = int(input ('a = '))       \n",
    "for i in range(12):\n",
    "    print(a,'X',i+1, '=', (a*(i+1)))"
   ]
  },
  {
   "cell_type": "code",
   "execution_count": 24,
   "metadata": {},
   "outputs": [
    {
     "name": "stdout",
     "output_type": "stream",
     "text": [
      "(1, 2, 3, 4, 5, 6, 7, 8, 5)\n",
      "1 2\n",
      "The number of element 9\n",
      "The number time 3 appers in a_tuple is 1\n",
      "The first occurene of vale 5 is found at 4\n",
      "Looping in the tuple\n",
      "1\n",
      "2\n",
      "3\n",
      "4\n",
      "5\n",
      "6\n",
      "7\n",
      "8\n",
      "5\n"
     ]
    }
   ],
   "source": [
    "a_tuple = (1,2,3,4,5,6,7,8,5)\n",
    "print(a_tuple)\n",
    "print(a_tuple[0], a_tuple[1])\n",
    "print('The number of element',len(a_tuple))\n",
    "print('The number time 3 appers in a_tuple is',a_tuple.count(3))\n",
    "print('The first occurene of vale 5 is found at',a_tuple.index(5))\n",
    "print('Looping in the tuple')\n",
    "for i in range(len(a_tuple)):\n",
    "    print(a_tuple[i])"
   ]
  },
  {
   "cell_type": "code",
   "execution_count": 32,
   "metadata": {},
   "outputs": [
    {
     "name": "stdout",
     "output_type": "stream",
     "text": [
      "<class 'dict'>\n",
      "{'brand': 'Ford', 'mode': 'Mustang', 'year': 1998}\n",
      "Mustang\n",
      "Ford\n",
      "Mustang\n",
      "1998\n",
      "Ford\n",
      "Mustang\n",
      "1998\n",
      "brand Ford\n",
      "mode Mustang\n",
      "year 1998\n"
     ]
    }
   ],
   "source": [
    "my_dic = {}\n",
    "print (type(my_dic))\n",
    "thisdic = {\n",
    "    \"brand\" : \"Ford\",\n",
    "    \"mode\" : \"Mustang\",\n",
    "    \"year\":1998\n",
    "}\n",
    "print(thisdic)\n",
    "print(thisdic[\"mode\"])\n",
    "#พิมพ์ทุกคำ\n",
    "for e in thisdic:\n",
    "    print(thisdic[e])\n",
    "for e in thisdic.values():\n",
    "    print(e)\n",
    "#พิมพ์ั้งคีย์ และ คำ\n",
    "for key,values in thisdic.items():\n",
    "    print(key,values)"
   ]
  },
  {
   "cell_type": "code",
   "execution_count": 42,
   "metadata": {},
   "outputs": [
    {
     "name": "stdout",
     "output_type": "stream",
     "text": [
      "[{'id': 1, 'name': 'au', 'point': 200}, {'id': 2, 'name': 'mee', 'point': 100}, {'id': 3, 'name': 'ni', 'point': 250}, {'id': 4, 'name': 'paw', 'point': 150}]\n",
      "au\n",
      "{'id': 1, 'name': 'au', 'point': 200}\n",
      "{'id': 2, 'name': 'mee', 'point': 100}\n",
      "{'id': 3, 'name': 'ni', 'point': 250}\n",
      "{'id': 4, 'name': 'paw', 'point': 150}\n",
      "{'id': 3, 'name': 'ni', 'point': 250}\n"
     ]
    },
    {
     "data": {
      "text/plain": [
       "[{'id': 1, 'name': 'au', 'point': 200}, {'id': 3, 'name': 'ni', 'point': 250}]"
      ]
     },
     "execution_count": 42,
     "metadata": {},
     "output_type": "execute_result"
    }
   ],
   "source": [
    "user = [ {\"id\":1,\"name\":\"au\",\"point\":200},\n",
    "        {\"id\":2,\"name\":\"mee\",\"point\":100},\n",
    "        {\"id\":3,\"name\":\"ni\",\"point\":250},\n",
    "        {\"id\":4,\"name\":\"paw\",\"point\":150}\n",
    "    ]\n",
    "print (user)\n",
    "print(user[0][\"name\"])\n",
    "for u in user:\n",
    "    print(u)\n",
    "print(next(item for item in user if item[\"name\"]==\"ni\"))\n",
    "\n",
    "keys = map(lambda x : x['id'],user)\n",
    "list(keys)\n",
    "values = map(lambda x : x['name'],user)\n",
    "list(values)\n",
    "au_user = filter(lambda x:x['name']=='au',user)\n",
    "list(au_user)\n",
    "high_point = filter(lambda x: x['point'] >= 180,user)\n",
    "list(high_point)"
   ]
  },
  {
   "cell_type": "code",
   "execution_count": null,
   "metadata": {},
   "outputs": [],
   "source": []
  }
 ],
 "metadata": {
  "kernelspec": {
   "display_name": "Python 3",
   "language": "python",
   "name": "python3"
  },
  "language_info": {
   "codemirror_mode": {
    "name": "ipython",
    "version": 3
   },
   "file_extension": ".py",
   "mimetype": "text/x-python",
   "name": "python",
   "nbconvert_exporter": "python",
   "pygments_lexer": "ipython3",
   "version": "3.7.1"
  }
 },
 "nbformat": 4,
 "nbformat_minor": 2
}
