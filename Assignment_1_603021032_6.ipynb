{
 "cells": [
  {
   "cell_type": "code",
   "execution_count": 111,
   "metadata": {},
   "outputs": [
    {
     "name": "stdout",
     "output_type": "stream",
     "text": [
      "Number of instances = 699\n",
      "Number of attributes = 10\n"
     ]
    },
    {
     "data": {
      "text/html": [
       "<div>\n",
       "<style scoped>\n",
       "    .dataframe tbody tr th:only-of-type {\n",
       "        vertical-align: middle;\n",
       "    }\n",
       "\n",
       "    .dataframe tbody tr th {\n",
       "        vertical-align: top;\n",
       "    }\n",
       "\n",
       "    .dataframe thead th {\n",
       "        text-align: right;\n",
       "    }\n",
       "</style>\n",
       "<table border=\"1\" class=\"dataframe\">\n",
       "  <thead>\n",
       "    <tr style=\"text-align: right;\">\n",
       "      <th></th>\n",
       "      <th>Clump Thickness</th>\n",
       "      <th>Uniformity of Cell Size</th>\n",
       "      <th>Uniformity of Cell Shape</th>\n",
       "      <th>Marginal Adhesion</th>\n",
       "      <th>Single Epithelial Cell Size</th>\n",
       "      <th>Bare Nuclei</th>\n",
       "      <th>Bland Chromatin</th>\n",
       "      <th>Normal Nucleoli</th>\n",
       "      <th>Mitoses</th>\n",
       "      <th>Class</th>\n",
       "    </tr>\n",
       "  </thead>\n",
       "  <tbody>\n",
       "    <tr>\n",
       "      <th>0</th>\n",
       "      <td>5</td>\n",
       "      <td>1</td>\n",
       "      <td>1</td>\n",
       "      <td>1</td>\n",
       "      <td>2</td>\n",
       "      <td>1</td>\n",
       "      <td>3</td>\n",
       "      <td>1</td>\n",
       "      <td>1</td>\n",
       "      <td>2</td>\n",
       "    </tr>\n",
       "    <tr>\n",
       "      <th>1</th>\n",
       "      <td>5</td>\n",
       "      <td>4</td>\n",
       "      <td>4</td>\n",
       "      <td>5</td>\n",
       "      <td>7</td>\n",
       "      <td>10</td>\n",
       "      <td>3</td>\n",
       "      <td>2</td>\n",
       "      <td>1</td>\n",
       "      <td>2</td>\n",
       "    </tr>\n",
       "    <tr>\n",
       "      <th>2</th>\n",
       "      <td>3</td>\n",
       "      <td>1</td>\n",
       "      <td>1</td>\n",
       "      <td>1</td>\n",
       "      <td>2</td>\n",
       "      <td>2</td>\n",
       "      <td>3</td>\n",
       "      <td>1</td>\n",
       "      <td>1</td>\n",
       "      <td>2</td>\n",
       "    </tr>\n",
       "    <tr>\n",
       "      <th>3</th>\n",
       "      <td>6</td>\n",
       "      <td>8</td>\n",
       "      <td>8</td>\n",
       "      <td>1</td>\n",
       "      <td>3</td>\n",
       "      <td>4</td>\n",
       "      <td>3</td>\n",
       "      <td>7</td>\n",
       "      <td>1</td>\n",
       "      <td>2</td>\n",
       "    </tr>\n",
       "    <tr>\n",
       "      <th>4</th>\n",
       "      <td>4</td>\n",
       "      <td>1</td>\n",
       "      <td>1</td>\n",
       "      <td>3</td>\n",
       "      <td>2</td>\n",
       "      <td>1</td>\n",
       "      <td>3</td>\n",
       "      <td>1</td>\n",
       "      <td>1</td>\n",
       "      <td>2</td>\n",
       "    </tr>\n",
       "  </tbody>\n",
       "</table>\n",
       "</div>"
      ],
      "text/plain": [
       "   Clump Thickness  Uniformity of Cell Size  Uniformity of Cell Shape  \\\n",
       "0                5                        1                         1   \n",
       "1                5                        4                         4   \n",
       "2                3                        1                         1   \n",
       "3                6                        8                         8   \n",
       "4                4                        1                         1   \n",
       "\n",
       "   Marginal Adhesion  Single Epithelial Cell Size Bare Nuclei  \\\n",
       "0                  1                            2           1   \n",
       "1                  5                            7          10   \n",
       "2                  1                            2           2   \n",
       "3                  1                            3           4   \n",
       "4                  3                            2           1   \n",
       "\n",
       "   Bland Chromatin  Normal Nucleoli  Mitoses  Class  \n",
       "0                3                1        1      2  \n",
       "1                3                2        1      2  \n",
       "2                3                1        1      2  \n",
       "3                3                7        1      2  \n",
       "4                3                1        1      2  "
      ]
     },
     "execution_count": 111,
     "metadata": {},
     "output_type": "execute_result"
    }
   ],
   "source": [
    "import pandas as pd\n",
    "data = pd.read_csv('https://archive.ics.uci.edu/ml/machine-learning-databases/breast-cancer-wisconsin/breast-cancer-wisconsin.data', header=None)\n",
    "data.columns = ['Sample code', 'Clump Thickness', 'Uniformity of Cell Size', 'Uniformity of Cell Shape',\n",
    " 'Marginal Adhesion', 'Single Epithelial Cell Size', 'Bare Nuclei', 'Bland Chromatin',\n",
    " 'Normal Nucleoli', 'Mitoses','Class']\n",
    "data = data.drop(['Sample code'],axis=1)\n",
    "print('Number of instances = %d' % (data.shape[0]))\n",
    "print('Number of attributes = %d' % (data.shape[1]))\n",
    "data.head()"
   ]
  },
  {
   "cell_type": "code",
   "execution_count": 112,
   "metadata": {},
   "outputs": [
    {
     "name": "stdout",
     "output_type": "stream",
     "text": [
      "Number of instances = 699\n",
      "Number of attributes = 10\n",
      "Number of missing values:\n",
      "\tClump Thickness: 0\n",
      "\tUniformity of Cell Size: 0\n",
      "\tUniformity of Cell Shape: 0\n",
      "\tMarginal Adhesion: 0\n",
      "\tSingle Epithelial Cell Size: 0\n",
      "\tBare Nuclei: 16\n",
      "\tBland Chromatin: 0\n",
      "\tNormal Nucleoli: 0\n",
      "\tMitoses: 0\n",
      "\tClass: 0\n"
     ]
    }
   ],
   "source": [
    "import numpy as np\n",
    "data = data.replace('?',np.NaN)\n",
    "print('Number of instances = %d' % (data.shape[0]))\n",
    "print('Number of attributes = %d' % (data.shape[1]))\n",
    "print('Number of missing values:')\n",
    "for col in data.columns:\n",
    " print('\\t%s: %d' % (col,data[col].isna().sum()))"
   ]
  },
  {
   "cell_type": "code",
   "execution_count": 156,
   "metadata": {},
   "outputs": [
    {
     "name": "stdout",
     "output_type": "stream",
     "text": [
      "\n",
      "After replacing missing values:\n",
      "    Clump Thickness  Uniformity of Cell Size  Uniformity of Cell Shape  \\\n",
      "20                7                        3                         2   \n",
      "21               10                        5                         5   \n",
      "22                3                        1                         1   \n",
      "23                8                        4                         5   \n",
      "24                1                        1                         1   \n",
      "\n",
      "    Marginal Adhesion  Single Epithelial Cell Size Bare Nuclei  \\\n",
      "20                 10                            5          10   \n",
      "21                  3                            6           7   \n",
      "22                  1                            2           1   \n",
      "23                  1                            2           1   \n",
      "24                  1                            2           1   \n",
      "\n",
      "    Bland Chromatin  Normal Nucleoli  Mitoses  Class  \n",
      "20                5                4        4      4  \n",
      "21                7               10        1      4  \n",
      "22                2                1        1      2  \n",
      "23                7                3        1      4  \n",
      "24                3                1        1      2  \n"
     ]
    }
   ],
   "source": [
    "data1=data\n",
    "data1 = data1.fillna(data1.median())\n",
    "print('\\nAfter replacing missing values:')\n",
    "print(data1[20:25])"
   ]
  },
  {
   "cell_type": "code",
   "execution_count": 157,
   "metadata": {},
   "outputs": [
    {
     "name": "stdout",
     "output_type": "stream",
     "text": [
      "Number of rows in original data = 699\n",
      "Number of rows after discarding missing values = 699\n"
     ]
    }
   ],
   "source": [
    "print('Number of rows in original data = %d' % (data.shape[0]))\n",
    "print('Number of rows after discarding missing values = %d' % (data1.shape[0]))"
   ]
  },
  {
   "cell_type": "code",
   "execution_count": 114,
   "metadata": {},
   "outputs": [
    {
     "name": "stdout",
     "output_type": "stream",
     "text": [
      "Number of rows in original data = 699\n",
      "Number of rows after discarding missing values = 683\n"
     ]
    }
   ],
   "source": [
    "print('Number of rows in original data = %d' % (data.shape[0]))\n",
    "data2 = data.dropna()\n",
    "print('Number of rows after discarding missing values = %d' % (data2.shape[0]))"
   ]
  },
  {
   "cell_type": "code",
   "execution_count": 115,
   "metadata": {},
   "outputs": [
    {
     "data": {
      "text/plain": [
       "<matplotlib.axes._subplots.AxesSubplot at 0x1ac546ca278>"
      ]
     },
     "execution_count": 115,
     "metadata": {},
     "output_type": "execute_result"
    },
    {
     "data": {
      "image/png": "[encoded data removed]",
      "text/plain": [
       "<Figure size 1440x216 with 1 Axes>"
      ]
     },
     "metadata": {
      "needs_background": "light"
     },
     "output_type": "display_data"
    }
   ],
   "source": [
    "%matplotlib inline\n",
    "data_box_data1 = data1.drop(['Class'],axis=1)\n",
    "data_box_data1['Bare Nuclei'] = pd.to_numeric(data_box_data1['Bare Nuclei'])\n",
    "data_box_data1.boxplot(figsize=(20,3))"
   ]
  },
  {
   "cell_type": "code",
   "execution_count": 116,
   "metadata": {},
   "outputs": [
    {
     "data": {
      "text/plain": [
       "<matplotlib.axes._subplots.AxesSubplot at 0x1ac5503e5f8>"
      ]
     },
     "execution_count": 116,
     "metadata": {},
     "output_type": "execute_result"
    },
    {
     "data": {
      "image/png": "[encoded data removed]",
      "text/plain": [
       "<Figure size 1440x216 with 1 Axes>"
      ]
     },
     "metadata": {
      "needs_background": "light"
     },
     "output_type": "display_data"
    }
   ],
   "source": [
    "%matplotlib inline\n",
    "data_box_data2 = data2.drop(['Class'],axis=1)\n",
    "data_box_data2['Bare Nuclei'] = pd.to_numeric(data_box_data2['Bare Nuclei'])\n",
    "data_box_data2.boxplot(figsize=(20,3))"
   ]
  },
  {
   "cell_type": "code",
   "execution_count": 117,
   "metadata": {},
   "outputs": [
    {
     "data": {
      "text/html": [
       "<div>\n",
       "<style scoped>\n",
       "    .dataframe tbody tr th:only-of-type {\n",
       "        vertical-align: middle;\n",
       "    }\n",
       "\n",
       "    .dataframe tbody tr th {\n",
       "        vertical-align: top;\n",
       "    }\n",
       "\n",
       "    .dataframe thead th {\n",
       "        text-align: right;\n",
       "    }\n",
       "</style>\n",
       "<table border=\"1\" class=\"dataframe\">\n",
       "  <thead>\n",
       "    <tr style=\"text-align: right;\">\n",
       "      <th></th>\n",
       "      <th>Clump Thickness</th>\n",
       "      <th>Uniformity of Cell Size</th>\n",
       "      <th>Uniformity of Cell Shape</th>\n",
       "      <th>Marginal Adhesion</th>\n",
       "      <th>Single Epithelial Cell Size</th>\n",
       "      <th>Bare Nuclei</th>\n",
       "      <th>Bland Chromatin</th>\n",
       "      <th>Normal Nucleoli</th>\n",
       "      <th>Mitoses</th>\n",
       "    </tr>\n",
       "  </thead>\n",
       "  <tbody>\n",
       "    <tr>\n",
       "      <th>20</th>\n",
       "      <td>0.917080</td>\n",
       "      <td>-0.044070</td>\n",
       "      <td>-0.406284</td>\n",
       "      <td>2.519152</td>\n",
       "      <td>0.805662</td>\n",
       "      <td>1.798376</td>\n",
       "      <td>0.640688</td>\n",
       "      <td>0.371049</td>\n",
       "      <td>1.405526</td>\n",
       "    </tr>\n",
       "    <tr>\n",
       "      <th>21</th>\n",
       "      <td>1.982519</td>\n",
       "      <td>0.611354</td>\n",
       "      <td>0.603167</td>\n",
       "      <td>0.067638</td>\n",
       "      <td>1.257272</td>\n",
       "      <td>0.970088</td>\n",
       "      <td>1.460910</td>\n",
       "      <td>2.335921</td>\n",
       "      <td>-0.343666</td>\n",
       "    </tr>\n",
       "    <tr>\n",
       "      <th>22</th>\n",
       "      <td>-0.503505</td>\n",
       "      <td>-0.699494</td>\n",
       "      <td>-0.742767</td>\n",
       "      <td>-0.632794</td>\n",
       "      <td>-0.549168</td>\n",
       "      <td>-0.686488</td>\n",
       "      <td>-0.589645</td>\n",
       "      <td>-0.611387</td>\n",
       "      <td>-0.343666</td>\n",
       "    </tr>\n",
       "    <tr>\n",
       "      <th>23</th>\n",
       "      <td>1.272227</td>\n",
       "      <td>0.283642</td>\n",
       "      <td>0.603167</td>\n",
       "      <td>-0.632794</td>\n",
       "      <td>-0.549168</td>\n",
       "      <td>-0.686488</td>\n",
       "      <td>1.460910</td>\n",
       "      <td>0.043570</td>\n",
       "      <td>-0.343666</td>\n",
       "    </tr>\n",
       "    <tr>\n",
       "      <th>24</th>\n",
       "      <td>-1.213798</td>\n",
       "      <td>-0.699494</td>\n",
       "      <td>-0.742767</td>\n",
       "      <td>-0.632794</td>\n",
       "      <td>-0.549168</td>\n",
       "      <td>-0.686488</td>\n",
       "      <td>-0.179534</td>\n",
       "      <td>-0.611387</td>\n",
       "      <td>-0.343666</td>\n",
       "    </tr>\n",
       "  </tbody>\n",
       "</table>\n",
       "</div>"
      ],
      "text/plain": [
       "    Clump Thickness  Uniformity of Cell Size  Uniformity of Cell Shape  \\\n",
       "20         0.917080                -0.044070                 -0.406284   \n",
       "21         1.982519                 0.611354                  0.603167   \n",
       "22        -0.503505                -0.699494                 -0.742767   \n",
       "23         1.272227                 0.283642                  0.603167   \n",
       "24        -1.213798                -0.699494                 -0.742767   \n",
       "\n",
       "    Marginal Adhesion  Single Epithelial Cell Size  Bare Nuclei  \\\n",
       "20           2.519152                     0.805662     1.798376   \n",
       "21           0.067638                     1.257272     0.970088   \n",
       "22          -0.632794                    -0.549168    -0.686488   \n",
       "23          -0.632794                    -0.549168    -0.686488   \n",
       "24          -0.632794                    -0.549168    -0.686488   \n",
       "\n",
       "    Bland Chromatin  Normal Nucleoli   Mitoses  \n",
       "20         0.640688         0.371049  1.405526  \n",
       "21         1.460910         2.335921 -0.343666  \n",
       "22        -0.589645        -0.611387 -0.343666  \n",
       "23         1.460910         0.043570 -0.343666  \n",
       "24        -0.179534        -0.611387 -0.343666  "
      ]
     },
     "execution_count": 117,
     "metadata": {},
     "output_type": "execute_result"
    }
   ],
   "source": [
    "Z_data1 = (data_box_data1-data_box_data1.mean())/data_box_data1.std()\n",
    "Z_data1[20:25]"
   ]
  },
  {
   "cell_type": "code",
   "execution_count": 118,
   "metadata": {},
   "outputs": [
    {
     "name": "stdout",
     "output_type": "stream",
     "text": [
      "Number of rows after discarding missing values = 648\n"
     ]
    }
   ],
   "source": [
    "Z1 = Z_data1.loc[((Z_data1 > -3).sum(axis=1)==9) & ((Z_data1 <= 3).sum(axis=1)==9),:]\n",
    "print('Number of rows after discarding missing values = %d' % (Z1.shape[0]))"
   ]
  },
  {
   "cell_type": "code",
   "execution_count": 119,
   "metadata": {},
   "outputs": [
    {
     "data": {
      "text/html": [
       "<div>\n",
       "<style scoped>\n",
       "    .dataframe tbody tr th:only-of-type {\n",
       "        vertical-align: middle;\n",
       "    }\n",
       "\n",
       "    .dataframe tbody tr th {\n",
       "        vertical-align: top;\n",
       "    }\n",
       "\n",
       "    .dataframe thead th {\n",
       "        text-align: right;\n",
       "    }\n",
       "</style>\n",
       "<table border=\"1\" class=\"dataframe\">\n",
       "  <thead>\n",
       "    <tr style=\"text-align: right;\">\n",
       "      <th></th>\n",
       "      <th>Clump Thickness</th>\n",
       "      <th>Uniformity of Cell Size</th>\n",
       "      <th>Uniformity of Cell Shape</th>\n",
       "      <th>Marginal Adhesion</th>\n",
       "      <th>Single Epithelial Cell Size</th>\n",
       "      <th>Bare Nuclei</th>\n",
       "      <th>Bland Chromatin</th>\n",
       "      <th>Normal Nucleoli</th>\n",
       "      <th>Mitoses</th>\n",
       "    </tr>\n",
       "  </thead>\n",
       "  <tbody>\n",
       "    <tr>\n",
       "      <th>20</th>\n",
       "      <td>0.906788</td>\n",
       "      <td>-0.049200</td>\n",
       "      <td>-0.406623</td>\n",
       "      <td>2.502944</td>\n",
       "      <td>0.794274</td>\n",
       "      <td>1.771569</td>\n",
       "      <td>0.634734</td>\n",
       "      <td>0.370269</td>\n",
       "      <td>1.383283</td>\n",
       "    </tr>\n",
       "    <tr>\n",
       "      <th>21</th>\n",
       "      <td>1.970331</td>\n",
       "      <td>0.603298</td>\n",
       "      <td>0.597198</td>\n",
       "      <td>0.059290</td>\n",
       "      <td>1.244099</td>\n",
       "      <td>0.948266</td>\n",
       "      <td>1.451161</td>\n",
       "      <td>2.335764</td>\n",
       "      <td>-0.348145</td>\n",
       "    </tr>\n",
       "    <tr>\n",
       "      <th>22</th>\n",
       "      <td>-0.511269</td>\n",
       "      <td>-0.701698</td>\n",
       "      <td>-0.741230</td>\n",
       "      <td>-0.638897</td>\n",
       "      <td>-0.555202</td>\n",
       "      <td>-0.698341</td>\n",
       "      <td>-0.589908</td>\n",
       "      <td>-0.612478</td>\n",
       "      <td>-0.348145</td>\n",
       "    </tr>\n",
       "    <tr>\n",
       "      <th>24</th>\n",
       "      <td>-1.220297</td>\n",
       "      <td>-0.701698</td>\n",
       "      <td>-0.741230</td>\n",
       "      <td>-0.638897</td>\n",
       "      <td>-0.555202</td>\n",
       "      <td>-0.698341</td>\n",
       "      <td>-0.181694</td>\n",
       "      <td>-0.612478</td>\n",
       "      <td>-0.348145</td>\n",
       "    </tr>\n",
       "    <tr>\n",
       "      <th>25</th>\n",
       "      <td>0.197760</td>\n",
       "      <td>-0.375449</td>\n",
       "      <td>-0.072016</td>\n",
       "      <td>0.408383</td>\n",
       "      <td>-0.555202</td>\n",
       "      <td>0.948266</td>\n",
       "      <td>-0.181694</td>\n",
       "      <td>1.025434</td>\n",
       "      <td>-0.348145</td>\n",
       "    </tr>\n",
       "  </tbody>\n",
       "</table>\n",
       "</div>"
      ],
      "text/plain": [
       "    Clump Thickness  Uniformity of Cell Size  Uniformity of Cell Shape  \\\n",
       "20         0.906788                -0.049200                 -0.406623   \n",
       "21         1.970331                 0.603298                  0.597198   \n",
       "22        -0.511269                -0.701698                 -0.741230   \n",
       "24        -1.220297                -0.701698                 -0.741230   \n",
       "25         0.197760                -0.375449                 -0.072016   \n",
       "\n",
       "    Marginal Adhesion  Single Epithelial Cell Size  Bare Nuclei  \\\n",
       "20           2.502944                     0.794274     1.771569   \n",
       "21           0.059290                     1.244099     0.948266   \n",
       "22          -0.638897                    -0.555202    -0.698341   \n",
       "24          -0.638897                    -0.555202    -0.698341   \n",
       "25           0.408383                    -0.555202     0.948266   \n",
       "\n",
       "    Bland Chromatin  Normal Nucleoli   Mitoses  \n",
       "20         0.634734         0.370269  1.383283  \n",
       "21         1.451161         2.335764 -0.348145  \n",
       "22        -0.589908        -0.612478 -0.348145  \n",
       "24        -0.181694        -0.612478 -0.348145  \n",
       "25        -0.181694         1.025434 -0.348145  "
      ]
     },
     "execution_count": 119,
     "metadata": {},
     "output_type": "execute_result"
    }
   ],
   "source": [
    "Z_data2 = (data_box_data2-data_box_data2.mean())/data_box_data2.std()\n",
    "Z_data2[20:25]"
   ]
  },
  {
   "cell_type": "code",
   "execution_count": 120,
   "metadata": {},
   "outputs": [
    {
     "name": "stdout",
     "output_type": "stream",
     "text": [
      "Number of rows = 632\n"
     ]
    }
   ],
   "source": [
    "Z2 = Z_data2.loc[((Z_data2 > -3).sum(axis=1)==9) & ((Z_data2 <= 3).sum(axis=1)==9),:]\n",
    "print('Number of rows = %d' % (Z2.shape[0]))"
   ]
  },
  {
   "cell_type": "code",
   "execution_count": 121,
   "metadata": {},
   "outputs": [
    {
     "name": "stdout",
     "output_type": "stream",
     "text": [
      "Number of instances = 699\n",
      "Number of attributes = 9\n",
      "Number of instances = 699\n"
     ]
    },
    {
     "data": {
      "text/plain": [
       "0    2\n",
       "1    2\n",
       "2    2\n",
       "3    2\n",
       "4    2\n",
       "Name: Class, dtype: int64"
      ]
     },
     "execution_count": 121,
     "metadata": {},
     "output_type": "execute_result"
    }
   ],
   "source": [
    "data1_x = data1.drop(['Class'],axis=1)\n",
    "print('Number of instances = %d' % (data1_x.shape[0]))\n",
    "print('Number of attributes = %d' % (data1_x.shape[1]))\n",
    "data1_x.head()\n",
    "data1_y = data1['Class']\n",
    "print('Number of instances = %d' % (data1_y.shape[0]))\n",
    "#print('Number of attributes = %d' % (data1_y.shape[1]))\n",
    "data1_y.head()"
   ]
  },
  {
   "cell_type": "code",
   "execution_count": 122,
   "metadata": {},
   "outputs": [],
   "source": [
    "from sklearn.model_selection import train_test_split\n",
    "X_train, X_test, Y_train, Y_test = train_test_split(data1_x, data1_y, test_size = 0.2, random_state = 0)"
   ]
  },
  {
   "cell_type": "code",
   "execution_count": 123,
   "metadata": {},
   "outputs": [
    {
     "name": "stdout",
     "output_type": "stream",
     "text": [
      "(559, 9)\n",
      "(559,)\n"
     ]
    }
   ],
   "source": [
    "print(X_train.shape)\n",
    "print(Y_train.shape)"
   ]
  },
  {
   "cell_type": "code",
   "execution_count": 124,
   "metadata": {},
   "outputs": [
    {
     "name": "stdout",
     "output_type": "stream",
     "text": [
      "[0.9642857142857143, 0.9785714285714285, 0.9785714285714285, 0.9785714285714285, 0.9714285714285714, 0.9714285714285714, 0.9642857142857143]\n",
      "0.9724489795918367\n"
     ]
    },
    {
     "data": {
      "image/png": "[encoded data removed]",
      "text/plain": [
       "<Figure size 432x288 with 1 Axes>"
      ]
     },
     "metadata": {
      "needs_background": "light"
     },
     "output_type": "display_data"
    }
   ],
   "source": [
    "#a.Fill-in Missing\n",
    "from sklearn.metrics import accuracy_score\n",
    "from sklearn.neighbors import KNeighborsClassifier\n",
    "import matplotlib.pyplot as plt\n",
    "%matplotlib inline\n",
    "numNeighbors = [1, 5, 10, 15, 20, 25, 30] \n",
    "trainAcc_knnd1 = []\n",
    "testAcc_knndA = []\n",
    "for k in numNeighbors:\n",
    " clf_knnd1 = KNeighborsClassifier(n_neighbors=k, metric='minkowski', p=2)\n",
    " clf_knnd1.fit(X_train, Y_train)\n",
    " Y_predTrain_knnd1 = clf_knnd1.predict(X_train)\n",
    " Y_predTest_knnd1 = clf_knnd1.predict(X_test)\n",
    " trainAcc_knnd1.append(accuracy_score(Y_train, Y_predTrain_knnd1))\n",
    " testAcc_knndA.append(accuracy_score(Y_test, Y_predTest_knnd1))\n",
    "plt.plot(numNeighbors, trainAcc_knnd1, 'ro-', numNeighbors, testAcc_knndA,'bv--')\n",
    "plt.legend(['Training Accuracy','Test Accuracy'])\n",
    "plt.xlabel('Number of neighbors')\n",
    "plt.ylabel('Accuracy')\n",
    "print(testAcc_knndA)\n",
    "print(np.mean(testAcc_knndA))"
   ]
  },
  {
   "cell_type": "code",
   "execution_count": 125,
   "metadata": {},
   "outputs": [
    {
     "name": "stdout",
     "output_type": "stream",
     "text": [
      "Number of instances = 683\n",
      "Number of attributes = 9\n",
      "Number of instances = 683\n"
     ]
    },
    {
     "data": {
      "text/plain": [
       "0    2\n",
       "1    2\n",
       "2    2\n",
       "3    2\n",
       "4    2\n",
       "Name: Class, dtype: int64"
      ]
     },
     "execution_count": 125,
     "metadata": {},
     "output_type": "execute_result"
    }
   ],
   "source": [
    "data2_x = data2.drop(['Class'],axis=1)\n",
    "print('Number of instances = %d' % (data2_x.shape[0]))\n",
    "print('Number of attributes = %d' % (data2_x.shape[1]))\n",
    "data2_x.head()\n",
    "data2_y = data2['Class']\n",
    "print('Number of instances = %d' % (data2_y.shape[0]))\n",
    "#print('Number of attributes = %d' % (data2_y.shape[1]))\n",
    "data2_y.head()"
   ]
  },
  {
   "cell_type": "code",
   "execution_count": 126,
   "metadata": {},
   "outputs": [],
   "source": [
    "from sklearn.model_selection import train_test_split\n",
    "X_train, X_test, Y_train, Y_test = train_test_split(data2_x, data2_y, test_size = 0.2,random_state = 0)"
   ]
  },
  {
   "cell_type": "code",
   "execution_count": 127,
   "metadata": {},
   "outputs": [
    {
     "name": "stdout",
     "output_type": "stream",
     "text": [
      "(546, 9)\n",
      "(546,)\n"
     ]
    }
   ],
   "source": [
    "print(X_train.shape)\n",
    "print(Y_train.shape)"
   ]
  },
  {
   "cell_type": "code",
   "execution_count": 128,
   "metadata": {},
   "outputs": [
    {
     "name": "stdout",
     "output_type": "stream",
     "text": [
      "[0.9781021897810219, 0.9708029197080292, 0.948905109489051, 0.948905109489051, 0.9416058394160584, 0.9416058394160584, 0.9416058394160584]\n",
      "0.9530761209593326\n"
     ]
    },
    {
     "data": {
      "image/png": "[encoded data removed]",
      "text/plain": [
       "<Figure size 432x288 with 1 Axes>"
      ]
     },
     "metadata": {
      "needs_background": "light"
     },
     "output_type": "display_data"
    }
   ],
   "source": [
    "#b.Fill-in Missing\n",
    "from sklearn.metrics import accuracy_score\n",
    "from sklearn.neighbors import KNeighborsClassifier\n",
    "import matplotlib.pyplot as plt\n",
    "%matplotlib inline\n",
    "numNeighbors = [1, 5, 10, 15, 20, 25, 30] \n",
    "trainAcc_knnd1 = []\n",
    "testAcc_knndB = []\n",
    "for k in numNeighbors:\n",
    " clf_knnd1 = KNeighborsClassifier(n_neighbors=k, metric='minkowski', p=2)\n",
    " clf_knnd1.fit(X_train, Y_train)\n",
    " Y_predTrain_knnd1 = clf_knnd1.predict(X_train)\n",
    " Y_predTest_knnd1 = clf_knnd1.predict(X_test)\n",
    " trainAcc_knnd1.append(accuracy_score(Y_train, Y_predTrain_knnd1))\n",
    " testAcc_knndB.append(accuracy_score(Y_test, Y_predTest_knnd1))\n",
    "plt.plot(numNeighbors, trainAcc_knnd1, 'ro-', numNeighbors, testAcc_knndB,'bv--')\n",
    "plt.legend(['Training Accuracy','Test Accuracy'])\n",
    "plt.xlabel('Number of neighbors')\n",
    "plt.ylabel('Accuracy')\n",
    "print(testAcc_knndB)\n",
    "print(np.mean(testAcc_knndB))"
   ]
  },
  {
   "cell_type": "code",
   "execution_count": 129,
   "metadata": {},
   "outputs": [],
   "source": [
    "C1 = data1.drop(['Class'],axis=1)\n",
    "C1['Bare Nuclei'] = pd.to_numeric(C1['Bare Nuclei'])"
   ]
  },
  {
   "cell_type": "code",
   "execution_count": 130,
   "metadata": {},
   "outputs": [
    {
     "data": {
      "text/html": [
       "<div>\n",
       "<style scoped>\n",
       "    .dataframe tbody tr th:only-of-type {\n",
       "        vertical-align: middle;\n",
       "    }\n",
       "\n",
       "    .dataframe tbody tr th {\n",
       "        vertical-align: top;\n",
       "    }\n",
       "\n",
       "    .dataframe thead th {\n",
       "        text-align: right;\n",
       "    }\n",
       "</style>\n",
       "<table border=\"1\" class=\"dataframe\">\n",
       "  <thead>\n",
       "    <tr style=\"text-align: right;\">\n",
       "      <th></th>\n",
       "      <th>Clump Thickness</th>\n",
       "      <th>Uniformity of Cell Size</th>\n",
       "      <th>Uniformity of Cell Shape</th>\n",
       "      <th>Marginal Adhesion</th>\n",
       "      <th>Single Epithelial Cell Size</th>\n",
       "      <th>Bare Nuclei</th>\n",
       "      <th>Bland Chromatin</th>\n",
       "      <th>Normal Nucleoli</th>\n",
       "      <th>Mitoses</th>\n",
       "    </tr>\n",
       "  </thead>\n",
       "  <tbody>\n",
       "    <tr>\n",
       "      <th>20</th>\n",
       "      <td>0.917080</td>\n",
       "      <td>-0.044070</td>\n",
       "      <td>-0.406284</td>\n",
       "      <td>2.519152</td>\n",
       "      <td>0.805662</td>\n",
       "      <td>1.798376</td>\n",
       "      <td>0.640688</td>\n",
       "      <td>0.371049</td>\n",
       "      <td>1.405526</td>\n",
       "    </tr>\n",
       "    <tr>\n",
       "      <th>21</th>\n",
       "      <td>1.982519</td>\n",
       "      <td>0.611354</td>\n",
       "      <td>0.603167</td>\n",
       "      <td>0.067638</td>\n",
       "      <td>1.257272</td>\n",
       "      <td>0.970088</td>\n",
       "      <td>1.460910</td>\n",
       "      <td>2.335921</td>\n",
       "      <td>-0.343666</td>\n",
       "    </tr>\n",
       "    <tr>\n",
       "      <th>22</th>\n",
       "      <td>-0.503505</td>\n",
       "      <td>-0.699494</td>\n",
       "      <td>-0.742767</td>\n",
       "      <td>-0.632794</td>\n",
       "      <td>-0.549168</td>\n",
       "      <td>-0.686488</td>\n",
       "      <td>-0.589645</td>\n",
       "      <td>-0.611387</td>\n",
       "      <td>-0.343666</td>\n",
       "    </tr>\n",
       "    <tr>\n",
       "      <th>23</th>\n",
       "      <td>1.272227</td>\n",
       "      <td>0.283642</td>\n",
       "      <td>0.603167</td>\n",
       "      <td>-0.632794</td>\n",
       "      <td>-0.549168</td>\n",
       "      <td>-0.686488</td>\n",
       "      <td>1.460910</td>\n",
       "      <td>0.043570</td>\n",
       "      <td>-0.343666</td>\n",
       "    </tr>\n",
       "    <tr>\n",
       "      <th>24</th>\n",
       "      <td>-1.213798</td>\n",
       "      <td>-0.699494</td>\n",
       "      <td>-0.742767</td>\n",
       "      <td>-0.632794</td>\n",
       "      <td>-0.549168</td>\n",
       "      <td>-0.686488</td>\n",
       "      <td>-0.179534</td>\n",
       "      <td>-0.611387</td>\n",
       "      <td>-0.343666</td>\n",
       "    </tr>\n",
       "  </tbody>\n",
       "</table>\n",
       "</div>"
      ],
      "text/plain": [
       "    Clump Thickness  Uniformity of Cell Size  Uniformity of Cell Shape  \\\n",
       "20         0.917080                -0.044070                 -0.406284   \n",
       "21         1.982519                 0.611354                  0.603167   \n",
       "22        -0.503505                -0.699494                 -0.742767   \n",
       "23         1.272227                 0.283642                  0.603167   \n",
       "24        -1.213798                -0.699494                 -0.742767   \n",
       "\n",
       "    Marginal Adhesion  Single Epithelial Cell Size  Bare Nuclei  \\\n",
       "20           2.519152                     0.805662     1.798376   \n",
       "21           0.067638                     1.257272     0.970088   \n",
       "22          -0.632794                    -0.549168    -0.686488   \n",
       "23          -0.632794                    -0.549168    -0.686488   \n",
       "24          -0.632794                    -0.549168    -0.686488   \n",
       "\n",
       "    Bland Chromatin  Normal Nucleoli   Mitoses  \n",
       "20         0.640688         0.371049  1.405526  \n",
       "21         1.460910         2.335921 -0.343666  \n",
       "22        -0.589645        -0.611387 -0.343666  \n",
       "23         1.460910         0.043570 -0.343666  \n",
       "24        -0.179534        -0.611387 -0.343666  "
      ]
     },
     "execution_count": 130,
     "metadata": {},
     "output_type": "execute_result"
    }
   ],
   "source": [
    "Z_C1 = (C1-C1.mean())/C1.std()\n",
    "Z_C1[20:25]"
   ]
  },
  {
   "cell_type": "code",
   "execution_count": 131,
   "metadata": {},
   "outputs": [],
   "source": [
    "Z3 = data1.loc[((Z_C1 > -3).sum(axis=1)==9) & ((Z_C1 <= 3).sum(axis=1)==9),:]\n",
    "data3_x = Z3.drop(['Class'],axis=1)\n",
    "data3_y = Z3['Class']"
   ]
  },
  {
   "cell_type": "code",
   "execution_count": 132,
   "metadata": {},
   "outputs": [],
   "source": [
    "from sklearn.model_selection import train_test_split\n",
    "X_train, X_test, Y_train, Y_test = train_test_split(data3_x, data3_y, test_size = 0.2,random_state = 0)"
   ]
  },
  {
   "cell_type": "code",
   "execution_count": 133,
   "metadata": {},
   "outputs": [
    {
     "name": "stdout",
     "output_type": "stream",
     "text": [
      "(518, 9)\n",
      "(518,)\n"
     ]
    }
   ],
   "source": [
    "print(X_train.shape)\n",
    "print(Y_train.shape)"
   ]
  },
  {
   "cell_type": "code",
   "execution_count": 134,
   "metadata": {},
   "outputs": [
    {
     "name": "stdout",
     "output_type": "stream",
     "text": [
      "[0.9461538461538461, 0.9769230769230769, 0.9615384615384616, 0.9692307692307692, 0.9692307692307692, 0.9692307692307692, 0.9615384615384616]\n",
      "0.9648351648351648\n"
     ]
    },
    {
     "data": {
      "image/png": "[encoded data removed]",
      "text/plain": [
       "<Figure size 432x288 with 1 Axes>"
      ]
     },
     "metadata": {
      "needs_background": "light"
     },
     "output_type": "display_data"
    }
   ],
   "source": [
    "# C.K-NN with Fill-in Missing + Managing Outlier\n",
    "from sklearn.neighbors import KNeighborsClassifier\n",
    "import matplotlib.pyplot as plt\n",
    "%matplotlib inline\n",
    "numNeighbors = [1, 5, 10, 15, 20, 25, 30]\n",
    "trainAcc_knnd1 = []\n",
    "testAcc_knndC = []\n",
    "for k in numNeighbors:\n",
    "    clf_knnd1 = KNeighborsClassifier(n_neighbors=k, metric='minkowski', p=2)\n",
    "    clf_knnd1.fit(X_train, Y_train)\n",
    "    Y_predTrain_knnd1 = clf_knnd1.predict(X_train)\n",
    "    Y_predTest_knnd1 = clf_knnd1.predict(X_test)\n",
    "    trainAcc_knnd1.append(accuracy_score(Y_train,Y_predTrain_knnd1))\n",
    "    testAcc_knndC.append(accuracy_score(Y_test,Y_predTest_knnd1))\n",
    "plt.plot(numNeighbors,trainAcc_knnd1,'ro-',numNeighbors,testAcc_knndC,'bv--')\n",
    "plt.legend(['Training Accuracy','Test Accuracy'])\n",
    "plt.xlabel('Number of neighbors')\n",
    "plt.ylabel('Accuracy')\n",
    "print(testAcc_knndC)\n",
    "print(np.mean(testAcc_knndC))"
   ]
  },
  {
   "cell_type": "code",
   "execution_count": 135,
   "metadata": {},
   "outputs": [],
   "source": [
    "D2 = data2.drop(['Class'],axis=1)\n",
    "D2['Bare Nuclei'] = pd.to_numeric(D2['Bare Nuclei'])"
   ]
  },
  {
   "cell_type": "code",
   "execution_count": 136,
   "metadata": {},
   "outputs": [
    {
     "data": {
      "text/html": [
       "<div>\n",
       "<style scoped>\n",
       "    .dataframe tbody tr th:only-of-type {\n",
       "        vertical-align: middle;\n",
       "    }\n",
       "\n",
       "    .dataframe tbody tr th {\n",
       "        vertical-align: top;\n",
       "    }\n",
       "\n",
       "    .dataframe thead th {\n",
       "        text-align: right;\n",
       "    }\n",
       "</style>\n",
       "<table border=\"1\" class=\"dataframe\">\n",
       "  <thead>\n",
       "    <tr style=\"text-align: right;\">\n",
       "      <th></th>\n",
       "      <th>Clump Thickness</th>\n",
       "      <th>Uniformity of Cell Size</th>\n",
       "      <th>Uniformity of Cell Shape</th>\n",
       "      <th>Marginal Adhesion</th>\n",
       "      <th>Single Epithelial Cell Size</th>\n",
       "      <th>Bare Nuclei</th>\n",
       "      <th>Bland Chromatin</th>\n",
       "      <th>Normal Nucleoli</th>\n",
       "      <th>Mitoses</th>\n",
       "    </tr>\n",
       "  </thead>\n",
       "  <tbody>\n",
       "    <tr>\n",
       "      <th>20</th>\n",
       "      <td>0.906788</td>\n",
       "      <td>-0.049200</td>\n",
       "      <td>-0.406623</td>\n",
       "      <td>2.502944</td>\n",
       "      <td>0.794274</td>\n",
       "      <td>1.771569</td>\n",
       "      <td>0.634734</td>\n",
       "      <td>0.370269</td>\n",
       "      <td>1.383283</td>\n",
       "    </tr>\n",
       "    <tr>\n",
       "      <th>21</th>\n",
       "      <td>1.970331</td>\n",
       "      <td>0.603298</td>\n",
       "      <td>0.597198</td>\n",
       "      <td>0.059290</td>\n",
       "      <td>1.244099</td>\n",
       "      <td>0.948266</td>\n",
       "      <td>1.451161</td>\n",
       "      <td>2.335764</td>\n",
       "      <td>-0.348145</td>\n",
       "    </tr>\n",
       "    <tr>\n",
       "      <th>22</th>\n",
       "      <td>-0.511269</td>\n",
       "      <td>-0.701698</td>\n",
       "      <td>-0.741230</td>\n",
       "      <td>-0.638897</td>\n",
       "      <td>-0.555202</td>\n",
       "      <td>-0.698341</td>\n",
       "      <td>-0.589908</td>\n",
       "      <td>-0.612478</td>\n",
       "      <td>-0.348145</td>\n",
       "    </tr>\n",
       "    <tr>\n",
       "      <th>24</th>\n",
       "      <td>-1.220297</td>\n",
       "      <td>-0.701698</td>\n",
       "      <td>-0.741230</td>\n",
       "      <td>-0.638897</td>\n",
       "      <td>-0.555202</td>\n",
       "      <td>-0.698341</td>\n",
       "      <td>-0.181694</td>\n",
       "      <td>-0.612478</td>\n",
       "      <td>-0.348145</td>\n",
       "    </tr>\n",
       "    <tr>\n",
       "      <th>25</th>\n",
       "      <td>0.197760</td>\n",
       "      <td>-0.375449</td>\n",
       "      <td>-0.072016</td>\n",
       "      <td>0.408383</td>\n",
       "      <td>-0.555202</td>\n",
       "      <td>0.948266</td>\n",
       "      <td>-0.181694</td>\n",
       "      <td>1.025434</td>\n",
       "      <td>-0.348145</td>\n",
       "    </tr>\n",
       "  </tbody>\n",
       "</table>\n",
       "</div>"
      ],
      "text/plain": [
       "    Clump Thickness  Uniformity of Cell Size  Uniformity of Cell Shape  \\\n",
       "20         0.906788                -0.049200                 -0.406623   \n",
       "21         1.970331                 0.603298                  0.597198   \n",
       "22        -0.511269                -0.701698                 -0.741230   \n",
       "24        -1.220297                -0.701698                 -0.741230   \n",
       "25         0.197760                -0.375449                 -0.072016   \n",
       "\n",
       "    Marginal Adhesion  Single Epithelial Cell Size  Bare Nuclei  \\\n",
       "20           2.502944                     0.794274     1.771569   \n",
       "21           0.059290                     1.244099     0.948266   \n",
       "22          -0.638897                    -0.555202    -0.698341   \n",
       "24          -0.638897                    -0.555202    -0.698341   \n",
       "25           0.408383                    -0.555202     0.948266   \n",
       "\n",
       "    Bland Chromatin  Normal Nucleoli   Mitoses  \n",
       "20         0.634734         0.370269  1.383283  \n",
       "21         1.451161         2.335764 -0.348145  \n",
       "22        -0.589908        -0.612478 -0.348145  \n",
       "24        -0.181694        -0.612478 -0.348145  \n",
       "25        -0.181694         1.025434 -0.348145  "
      ]
     },
     "execution_count": 136,
     "metadata": {},
     "output_type": "execute_result"
    }
   ],
   "source": [
    "Z_D2 = (D2-D2.mean())/D2.std()\n",
    "Z_D2[20:25]"
   ]
  },
  {
   "cell_type": "code",
   "execution_count": 137,
   "metadata": {},
   "outputs": [],
   "source": [
    "Z4 = data2.loc[((Z_D2 > -3).sum(axis=1)==9) & ((Z_D2 <= 3).sum(axis=1)==9),:]\n",
    "data4_x = Z4.drop(['Class'],axis=1)\n",
    "data4_y = Z4['Class']"
   ]
  },
  {
   "cell_type": "code",
   "execution_count": 138,
   "metadata": {},
   "outputs": [],
   "source": [
    "from sklearn.model_selection import train_test_split\n",
    "X_train, X_test, Y_train, Y_test = train_test_split(data4_x, data4_y, test_size = 0.2,random_state = 0)"
   ]
  },
  {
   "cell_type": "code",
   "execution_count": 139,
   "metadata": {},
   "outputs": [
    {
     "name": "stdout",
     "output_type": "stream",
     "text": [
      "(505, 9)\n",
      "(505,)\n"
     ]
    }
   ],
   "source": [
    "print(X_train.shape)\n",
    "print(Y_train.shape)"
   ]
  },
  {
   "cell_type": "code",
   "execution_count": 140,
   "metadata": {},
   "outputs": [
    {
     "name": "stdout",
     "output_type": "stream",
     "text": [
      "[0.9212598425196851, 0.9606299212598425, 0.9606299212598425, 0.9606299212598425, 0.952755905511811, 0.9606299212598425, 0.9606299212598425]\n",
      "0.9538807649043869\n"
     ]
    },
    {
     "data": {
      "image/png": "[encoded data removed]",
      "text/plain": [
       "<Figure size 432x288 with 1 Axes>"
      ]
     },
     "metadata": {
      "needs_background": "light"
     },
     "output_type": "display_data"
    }
   ],
   "source": [
    "#d.Ignored Missing + Managing Outliers\n",
    "from sklearn.neighbors import KNeighborsClassifier\n",
    "import matplotlib.pyplot as plt\n",
    "%matplotlib inline\n",
    "numNeighbors = [1, 5, 10, 15, 20, 25, 30]\n",
    "trainAcc_knnd2 = []\n",
    "testAcc_knndD = []\n",
    "for k in numNeighbors:\n",
    "    clf_knnd2 = KNeighborsClassifier(n_neighbors=k, metric='minkowski', p=2)\n",
    "    clf_knnd2.fit(X_train, Y_train)\n",
    "    Y_predTrain_knnd2 = clf_knnd2.predict(X_train)\n",
    "    Y_predTest_knnd2 = clf_knnd2.predict(X_test)\n",
    "    trainAcc_knnd2.append(accuracy_score(Y_train,Y_predTrain_knnd2))\n",
    "    testAcc_knndD.append(accuracy_score(Y_test,Y_predTest_knnd2))\n",
    "plt.plot(numNeighbors,trainAcc_knnd2,'ro-',numNeighbors,testAcc_knndD,'bv--')\n",
    "plt.legend(['Training Accuracy','Test Accuracy'])\n",
    "plt.xlabel('Number of neighbors')\n",
    "plt.ylabel('Accuracy')\n",
    "print(testAcc_knndD)\n",
    "print(np.mean(testAcc_knndD))"
   ]
  },
  {
   "cell_type": "code",
   "execution_count": 141,
   "metadata": {},
   "outputs": [],
   "source": [
    "import pandas as pd\n",
    "data_E = data1.drop_duplicates()"
   ]
  },
  {
   "cell_type": "code",
   "execution_count": 142,
   "metadata": {},
   "outputs": [],
   "source": [
    "E1 = data_E.drop(['Class'],axis=1)\n",
    "E1['Bare Nuclei'] = pd.to_numeric(E1['Bare Nuclei'])"
   ]
  },
  {
   "cell_type": "code",
   "execution_count": 143,
   "metadata": {},
   "outputs": [
    {
     "data": {
      "text/html": [
       "<div>\n",
       "<style scoped>\n",
       "    .dataframe tbody tr th:only-of-type {\n",
       "        vertical-align: middle;\n",
       "    }\n",
       "\n",
       "    .dataframe tbody tr th {\n",
       "        vertical-align: top;\n",
       "    }\n",
       "\n",
       "    .dataframe thead th {\n",
       "        text-align: right;\n",
       "    }\n",
       "</style>\n",
       "<table border=\"1\" class=\"dataframe\">\n",
       "  <thead>\n",
       "    <tr style=\"text-align: right;\">\n",
       "      <th></th>\n",
       "      <th>Clump Thickness</th>\n",
       "      <th>Uniformity of Cell Size</th>\n",
       "      <th>Uniformity of Cell Shape</th>\n",
       "      <th>Marginal Adhesion</th>\n",
       "      <th>Single Epithelial Cell Size</th>\n",
       "      <th>Bare Nuclei</th>\n",
       "      <th>Bland Chromatin</th>\n",
       "      <th>Normal Nucleoli</th>\n",
       "      <th>Mitoses</th>\n",
       "    </tr>\n",
       "  </thead>\n",
       "  <tbody>\n",
       "    <tr>\n",
       "      <th>20</th>\n",
       "      <td>0.583219</td>\n",
       "      <td>-0.362677</td>\n",
       "      <td>-0.717459</td>\n",
       "      <td>2.001363</td>\n",
       "      <td>0.473996</td>\n",
       "      <td>1.369473</td>\n",
       "      <td>0.314276</td>\n",
       "      <td>0.058056</td>\n",
       "      <td>1.034818</td>\n",
       "    </tr>\n",
       "    <tr>\n",
       "      <th>21</th>\n",
       "      <td>1.627150</td>\n",
       "      <td>0.254674</td>\n",
       "      <td>0.243535</td>\n",
       "      <td>-0.219252</td>\n",
       "      <td>0.882674</td>\n",
       "      <td>0.595593</td>\n",
       "      <td>1.072138</td>\n",
       "      <td>1.830345</td>\n",
       "      <td>-0.433376</td>\n",
       "    </tr>\n",
       "    <tr>\n",
       "      <th>22</th>\n",
       "      <td>-0.808690</td>\n",
       "      <td>-0.980029</td>\n",
       "      <td>-1.037791</td>\n",
       "      <td>-0.853714</td>\n",
       "      <td>-0.752038</td>\n",
       "      <td>-0.952168</td>\n",
       "      <td>-0.822518</td>\n",
       "      <td>-0.828089</td>\n",
       "      <td>-0.433376</td>\n",
       "    </tr>\n",
       "    <tr>\n",
       "      <th>23</th>\n",
       "      <td>0.931196</td>\n",
       "      <td>-0.054002</td>\n",
       "      <td>0.243535</td>\n",
       "      <td>-0.853714</td>\n",
       "      <td>-0.752038</td>\n",
       "      <td>-0.952168</td>\n",
       "      <td>1.072138</td>\n",
       "      <td>-0.237326</td>\n",
       "      <td>-0.433376</td>\n",
       "    </tr>\n",
       "    <tr>\n",
       "      <th>24</th>\n",
       "      <td>-1.504644</td>\n",
       "      <td>-0.980029</td>\n",
       "      <td>-1.037791</td>\n",
       "      <td>-0.853714</td>\n",
       "      <td>-0.752038</td>\n",
       "      <td>-0.952168</td>\n",
       "      <td>-0.443587</td>\n",
       "      <td>-0.828089</td>\n",
       "      <td>-0.433376</td>\n",
       "    </tr>\n",
       "  </tbody>\n",
       "</table>\n",
       "</div>"
      ],
      "text/plain": [
       "    Clump Thickness  Uniformity of Cell Size  Uniformity of Cell Shape  \\\n",
       "20         0.583219                -0.362677                 -0.717459   \n",
       "21         1.627150                 0.254674                  0.243535   \n",
       "22        -0.808690                -0.980029                 -1.037791   \n",
       "23         0.931196                -0.054002                  0.243535   \n",
       "24        -1.504644                -0.980029                 -1.037791   \n",
       "\n",
       "    Marginal Adhesion  Single Epithelial Cell Size  Bare Nuclei  \\\n",
       "20           2.001363                     0.473996     1.369473   \n",
       "21          -0.219252                     0.882674     0.595593   \n",
       "22          -0.853714                    -0.752038    -0.952168   \n",
       "23          -0.853714                    -0.752038    -0.952168   \n",
       "24          -0.853714                    -0.752038    -0.952168   \n",
       "\n",
       "    Bland Chromatin  Normal Nucleoli   Mitoses  \n",
       "20         0.314276         0.058056  1.034818  \n",
       "21         1.072138         1.830345 -0.433376  \n",
       "22        -0.822518        -0.828089 -0.433376  \n",
       "23         1.072138        -0.237326 -0.433376  \n",
       "24        -0.443587        -0.828089 -0.433376  "
      ]
     },
     "execution_count": 143,
     "metadata": {},
     "output_type": "execute_result"
    }
   ],
   "source": [
    "Z_E1 = (E1-E1.mean())/E1.std()\n",
    "Z_E1[20:25]"
   ]
  },
  {
   "cell_type": "code",
   "execution_count": 144,
   "metadata": {},
   "outputs": [],
   "source": [
    "Z5 = data_E.loc[((Z_E1 > -3).sum(axis=1)==9) & ((Z_E1 <= 3).sum(axis=1)==9),:]\n",
    "data5_x = Z5.drop(['Class'],axis=1)\n",
    "data5_y = Z5['Class']"
   ]
  },
  {
   "cell_type": "code",
   "execution_count": 145,
   "metadata": {},
   "outputs": [],
   "source": [
    "from sklearn.model_selection import train_test_split\n",
    "X_train, X_test, Y_train, Y_test = train_test_split(data5_x, data5_y, test_size = 0.2,random_state = 0)"
   ]
  },
  {
   "cell_type": "code",
   "execution_count": 146,
   "metadata": {},
   "outputs": [
    {
     "name": "stdout",
     "output_type": "stream",
     "text": [
      "(359, 9)\n",
      "(359,)\n"
     ]
    }
   ],
   "source": [
    "print(X_train.shape)\n",
    "print(Y_train.shape)"
   ]
  },
  {
   "cell_type": "code",
   "execution_count": 147,
   "metadata": {},
   "outputs": [
    {
     "name": "stdout",
     "output_type": "stream",
     "text": [
      "[0.8888888888888888, 0.9111111111111111, 0.9111111111111111, 0.9, 0.9, 0.8888888888888888, 0.9]\n",
      "0.9000000000000001\n"
     ]
    },
    {
     "data": {
      "image/png": "[encoded data removed]",
      "text/plain": [
       "<Figure size 432x288 with 1 Axes>"
      ]
     },
     "metadata": {
      "needs_background": "light"
     },
     "output_type": "display_data"
    }
   ],
   "source": [
    "# E.K-NN with Fill-in Missing + Managing Outlier + Managing Duplicate data\n",
    "from sklearn.neighbors import KNeighborsClassifier\n",
    "import matplotlib.pyplot as plt\n",
    "%matplotlib inline\n",
    "numNeighbors = [1, 5, 10, 15, 20, 25, 30]\n",
    "trainAcc_knnd1 = []\n",
    "testAcc_knndE = []\n",
    "for k in numNeighbors:\n",
    "    clf_knnd1 = KNeighborsClassifier(n_neighbors=k, metric='minkowski', p=2)\n",
    "    clf_knnd1.fit(X_train, Y_train)\n",
    "    Y_predTrain_knnd1 = clf_knnd1.predict(X_train)\n",
    "    Y_predTest_knnd1 = clf_knnd1.predict(X_test)\n",
    "    trainAcc_knnd1.append(accuracy_score(Y_train,Y_predTrain_knnd1))\n",
    "    testAcc_knndE.append(accuracy_score(Y_test,Y_predTest_knnd1))\n",
    "plt.plot(numNeighbors,trainAcc_knnd1,'ro-',numNeighbors,testAcc_knndE,'bv--')\n",
    "plt.legend(['Training Accuracy','Test Accuracy'])\n",
    "plt.xlabel('Number of neighbors')\n",
    "plt.ylabel('Accuracy')\n",
    "print(testAcc_knndE)\n",
    "print(np.mean(testAcc_knndE))"
   ]
  },
  {
   "cell_type": "code",
   "execution_count": 148,
   "metadata": {},
   "outputs": [],
   "source": [
    "import pandas as pd\n",
    "data_F = data2.drop_duplicates()"
   ]
  },
  {
   "cell_type": "code",
   "execution_count": 149,
   "metadata": {},
   "outputs": [],
   "source": [
    "F2 = data_F.drop(['Class'],axis=1)\n",
    "F2['Bare Nuclei'] = pd.to_numeric(F2['Bare Nuclei'])"
   ]
  },
  {
   "cell_type": "code",
   "execution_count": 150,
   "metadata": {},
   "outputs": [
    {
     "data": {
      "text/html": [
       "<div>\n",
       "<style scoped>\n",
       "    .dataframe tbody tr th:only-of-type {\n",
       "        vertical-align: middle;\n",
       "    }\n",
       "\n",
       "    .dataframe tbody tr th {\n",
       "        vertical-align: top;\n",
       "    }\n",
       "\n",
       "    .dataframe thead th {\n",
       "        text-align: right;\n",
       "    }\n",
       "</style>\n",
       "<table border=\"1\" class=\"dataframe\">\n",
       "  <thead>\n",
       "    <tr style=\"text-align: right;\">\n",
       "      <th></th>\n",
       "      <th>Clump Thickness</th>\n",
       "      <th>Uniformity of Cell Size</th>\n",
       "      <th>Uniformity of Cell Shape</th>\n",
       "      <th>Marginal Adhesion</th>\n",
       "      <th>Single Epithelial Cell Size</th>\n",
       "      <th>Bare Nuclei</th>\n",
       "      <th>Bland Chromatin</th>\n",
       "      <th>Normal Nucleoli</th>\n",
       "      <th>Mitoses</th>\n",
       "    </tr>\n",
       "  </thead>\n",
       "  <tbody>\n",
       "    <tr>\n",
       "      <th>20</th>\n",
       "      <td>0.565132</td>\n",
       "      <td>-0.376073</td>\n",
       "      <td>-0.723841</td>\n",
       "      <td>1.980076</td>\n",
       "      <td>0.456034</td>\n",
       "      <td>1.338423</td>\n",
       "      <td>0.301533</td>\n",
       "      <td>0.050630</td>\n",
       "      <td>1.008676</td>\n",
       "    </tr>\n",
       "    <tr>\n",
       "      <th>21</th>\n",
       "      <td>1.610782</td>\n",
       "      <td>0.239070</td>\n",
       "      <td>0.231119</td>\n",
       "      <td>-0.236227</td>\n",
       "      <td>0.863110</td>\n",
       "      <td>0.565329</td>\n",
       "      <td>1.055785</td>\n",
       "      <td>1.822033</td>\n",
       "      <td>-0.441363</td>\n",
       "    </tr>\n",
       "    <tr>\n",
       "      <th>22</th>\n",
       "      <td>-0.829068</td>\n",
       "      <td>-0.991215</td>\n",
       "      <td>-1.042161</td>\n",
       "      <td>-0.869457</td>\n",
       "      <td>-0.765194</td>\n",
       "      <td>-0.980860</td>\n",
       "      <td>-0.829845</td>\n",
       "      <td>-0.835071</td>\n",
       "      <td>-0.441363</td>\n",
       "    </tr>\n",
       "    <tr>\n",
       "      <th>24</th>\n",
       "      <td>-1.526168</td>\n",
       "      <td>-0.991215</td>\n",
       "      <td>-1.042161</td>\n",
       "      <td>-0.869457</td>\n",
       "      <td>-0.765194</td>\n",
       "      <td>-0.980860</td>\n",
       "      <td>-0.452719</td>\n",
       "      <td>-0.835071</td>\n",
       "      <td>-0.441363</td>\n",
       "    </tr>\n",
       "    <tr>\n",
       "      <th>25</th>\n",
       "      <td>-0.131968</td>\n",
       "      <td>-0.683644</td>\n",
       "      <td>-0.405521</td>\n",
       "      <td>0.080388</td>\n",
       "      <td>-0.765194</td>\n",
       "      <td>0.565329</td>\n",
       "      <td>-0.452719</td>\n",
       "      <td>0.641098</td>\n",
       "      <td>-0.441363</td>\n",
       "    </tr>\n",
       "  </tbody>\n",
       "</table>\n",
       "</div>"
      ],
      "text/plain": [
       "    Clump Thickness  Uniformity of Cell Size  Uniformity of Cell Shape  \\\n",
       "20         0.565132                -0.376073                 -0.723841   \n",
       "21         1.610782                 0.239070                  0.231119   \n",
       "22        -0.829068                -0.991215                 -1.042161   \n",
       "24        -1.526168                -0.991215                 -1.042161   \n",
       "25        -0.131968                -0.683644                 -0.405521   \n",
       "\n",
       "    Marginal Adhesion  Single Epithelial Cell Size  Bare Nuclei  \\\n",
       "20           1.980076                     0.456034     1.338423   \n",
       "21          -0.236227                     0.863110     0.565329   \n",
       "22          -0.869457                    -0.765194    -0.980860   \n",
       "24          -0.869457                    -0.765194    -0.980860   \n",
       "25           0.080388                    -0.765194     0.565329   \n",
       "\n",
       "    Bland Chromatin  Normal Nucleoli   Mitoses  \n",
       "20         0.301533         0.050630  1.008676  \n",
       "21         1.055785         1.822033 -0.441363  \n",
       "22        -0.829845        -0.835071 -0.441363  \n",
       "24        -0.452719        -0.835071 -0.441363  \n",
       "25        -0.452719         0.641098 -0.441363  "
      ]
     },
     "execution_count": 150,
     "metadata": {},
     "output_type": "execute_result"
    }
   ],
   "source": [
    "Z_F2 = (F2-F2.mean())/F2.std()\n",
    "Z_F2[20:25]"
   ]
  },
  {
   "cell_type": "code",
   "execution_count": 151,
   "metadata": {},
   "outputs": [],
   "source": [
    "Z6 = data_F.loc[((Z_F2 > -3).sum(axis=1)==9) & ((Z_F2 <= 3).sum(axis=1)==9),:]\n",
    "data6_x = Z6.drop(['Class'],axis=1)\n",
    "data6_y = Z6['Class']"
   ]
  },
  {
   "cell_type": "code",
   "execution_count": 152,
   "metadata": {},
   "outputs": [],
   "source": [
    "from sklearn.model_selection import train_test_split\n",
    "X_train, X_test, Y_train, Y_test = train_test_split(data6_x, data6_y, test_size = 0.2,random_state = 0)"
   ]
  },
  {
   "cell_type": "code",
   "execution_count": 153,
   "metadata": {},
   "outputs": [
    {
     "name": "stdout",
     "output_type": "stream",
     "text": [
      "(348, 9)\n",
      "(348,)\n"
     ]
    }
   ],
   "source": [
    "print(X_train.shape)\n",
    "print(Y_train.shape)"
   ]
  },
  {
   "cell_type": "code",
   "execution_count": 154,
   "metadata": {},
   "outputs": [
    {
     "name": "stdout",
     "output_type": "stream",
     "text": [
      "[0.9080459770114943, 0.9195402298850575, 0.9080459770114943, 0.9080459770114943, 0.896551724137931, 0.896551724137931, 0.896551724137931]\n",
      "0.9047619047619045\n"
     ]
    },
    {
     "data": {
      "image/png": "[encoded data removed]",
      "text/plain": [
       "<Figure size 432x288 with 1 Axes>"
      ]
     },
     "metadata": {
      "needs_background": "light"
     },
     "output_type": "display_data"
    }
   ],
   "source": [
    "# F.K-NN with  Ignored Missing + Managing Outlier + Managing Duplicate data\n",
    "#manging\n",
    "from sklearn.neighbors import KNeighborsClassifier\n",
    "import matplotlib.pyplot as plt\n",
    "%matplotlib inline\n",
    "numNeighbors = [1, 5, 10, 15, 20, 25, 30]\n",
    "trainAcc_knnd2 = []\n",
    "testAcc_knndF = []\n",
    "for k in numNeighbors:\n",
    "    clf_knnd2 = KNeighborsClassifier(n_neighbors=k, metric='minkowski', p=2)\n",
    "    clf_knnd2.fit(X_train, Y_train)\n",
    "    Y_predTrain_knnd2 = clf_knnd2.predict(X_train)\n",
    "    Y_predTest_knnd2 = clf_knnd2.predict(X_test)\n",
    "    trainAcc_knnd2.append(accuracy_score(Y_train,Y_predTrain_knnd2))\n",
    "    testAcc_knndF.append(accuracy_score(Y_test,Y_predTest_knnd2))\n",
    "plt.plot(numNeighbors,trainAcc_knnd2,'ro-',numNeighbors,testAcc_knndF,'bv--')\n",
    "plt.legend(['Training Accuracy','Test Accuracy'])\n",
    "plt.xlabel('Number of neighbors')\n",
    "plt.ylabel('Accuracy')\n",
    "print(testAcc_knndF)\n",
    "print(np.mean(testAcc_knndF))"
   ]
  },
  {
   "cell_type": "code",
   "execution_count": 155,
   "metadata": {},
   "outputs": [
    {
     "data": {
      "text/plain": [
       "Text(0, 0.5, 'Accuracy')"
      ]
     },
     "execution_count": 155,
     "metadata": {},
     "output_type": "execute_result"
    },
    {
     "data": {
      "image/png": "[encoded data removed]",
      "text/plain": [
       "<Figure size 432x288 with 1 Axes>"
      ]
     },
     "metadata": {
      "needs_background": "light"
     },
     "output_type": "display_data"
    }
   ],
   "source": [
    "plt.plot(numNeighbors, testAcc_knndA,'k*-')\n",
    "plt.plot(numNeighbors,testAcc_knndB,'b*-')\n",
    "plt.plot(numNeighbors,testAcc_knndC,'c*-')\n",
    "plt.plot(numNeighbors,testAcc_knndD,'g*-')\n",
    "plt.plot(numNeighbors,testAcc_knndE,'m*-')\n",
    "plt.plot(numNeighbors,testAcc_knndF,'r*-')\n",
    "\n",
    "plt.legend(['A','B','C','D','E','F'])\n",
    "plt.xlabel('Number of neighbors')\n",
    "plt.ylabel('Accuracy')"
   ]
  }
 ],
 "metadata": {
  "kernelspec": {
   "display_name": "Python 3",
   "language": "python",
   "name": "python3"
  },
  "language_info": {
   "codemirror_mode": {
    "name": "ipython",
    "version": 3
   },
   "file_extension": ".py",
   "mimetype": "text/x-python",
   "name": "python",
   "nbconvert_exporter": "python",
   "pygments_lexer": "ipython3",
   "version": "3.7.3"
  }
 },
 "nbformat": 4,
 "nbformat_minor": 2
}
